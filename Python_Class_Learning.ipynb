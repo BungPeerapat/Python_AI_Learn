{
  "nbformat": 4,
  "nbformat_minor": 0,
  "metadata": {
    "colab": {
      "name": "Python Class Learning",
      "provenance": [],
      "collapsed_sections": [],
      "include_colab_link": true
    },
    "kernelspec": {
      "display_name": "Python 3",
      "name": "python3"
    }
  },
  "cells": [
    {
      "cell_type": "markdown",
      "metadata": {
        "id": "view-in-github",
        "colab_type": "text"
      },
      "source": [
        "<a href=\"https://colab.research.google.com/github/BungPeerapat/Python_AI_Learn/blob/main/Python_Class_Learning.ipynb\" target=\"_parent\"><img src=\"https://colab.research.google.com/assets/colab-badge.svg\" alt=\"Open In Colab\"/></a>"
      ]
    },
    {
      "cell_type": "code",
      "metadata": {
        "id": "Chu283sN5T2i"
      },
      "source": [
        "class main:\r\n",
        "  def __init__(self, color,name,accleration,speed):\r\n",
        "    self.carcolor = color\r\n",
        "    self.carname = name\r\n",
        "    self.caraccleration = accleration\r\n",
        "    self.carspeed = speed\r\n",
        "    self.distance = 0\r\n",
        "  def showdetail(carname,color,accleration,speed):\r\n",
        "    print(\"\\n====================\\n\")\r\n",
        "    print(\"Detail this Car\\n\")\r\n",
        "    print(\"====================\")\r\n",
        "    print(\"Carname : \",carname)\r\n",
        "    print(\"Color : \",color)\r\n",
        "    print(\"Speed : \",speed)\r\n",
        "    print(\"Accleration : \",accleration)\r\n",
        "  def calculator(color,name,accleration,speed,time):\r\n",
        "    distance = speed * accleration\r\n",
        "    distance = distance * time\r\n",
        "    main.showdetail(name,color,accleration,speed)\r\n",
        "    print(\"\\n\\nDistance :\",float(distance / 1000),\"Kilomate\\n\")\r\n",
        "    print(\"===================\")"
      ],
      "execution_count": 26,
      "outputs": []
    },
    {
      "cell_type": "markdown",
      "metadata": {
        "id": "dp4otUvRAVPg"
      },
      "source": [
        "Class Calculator Car Distance"
      ]
    },
    {
      "cell_type": "code",
      "metadata": {
        "id": "9fJchCmo9XuO",
        "colab": {
          "base_uri": "https://localhost:8080/"
        },
        "outputId": "f795cdaf-11a6-4529-d1ca-109b33fe1a78"
      },
      "source": [
        "main.calculator('green','MACAR',30,120,10)"
      ],
      "execution_count": 27,
      "outputs": [
        {
          "output_type": "stream",
          "text": [
            "\n",
            "====================\n",
            "\n",
            "Detail this Car\n",
            "\n",
            "====================\n",
            "Carname :  MACAR\n",
            "Color :  green\n",
            "Speed :  120\n",
            "Accleration :  30\n",
            "\n",
            "\n",
            "Distance : 36.0 Kilomate\n",
            "\n",
            "===================\n"
          ],
          "name": "stdout"
        }
      ]
    },
    {
      "cell_type": "code",
      "metadata": {
        "id": "GIgGBQ3dYWGA",
        "colab": {
          "base_uri": "https://localhost:8080/"
        },
        "outputId": "305a1fa7-801c-4a7f-f43d-30893cabd3cc"
      },
      "source": [
        "!pip install botnoi"
      ],
      "execution_count": 28,
      "outputs": [
        {
          "output_type": "stream",
          "text": [
            "Requirement already satisfied: botnoi in /usr/local/lib/python3.7/dist-packages (0.7.1)\n",
            "Requirement already satisfied: pymongo[srv,tls] in /usr/local/lib/python3.7/dist-packages (from botnoi) (3.11.3)\n",
            "Requirement already satisfied: gspread==3.6.0 in /usr/local/lib/python3.7/dist-packages (from botnoi) (3.6.0)\n",
            "Requirement already satisfied: line-bot-sdk in /usr/local/lib/python3.7/dist-packages (from botnoi) (1.18.0)\n",
            "Requirement already satisfied: gensim in /usr/local/lib/python3.7/dist-packages (from botnoi) (3.6.0)\n",
            "Requirement already satisfied: pythainlp in /usr/local/lib/python3.7/dist-packages (from botnoi) (2.2.6)\n",
            "Requirement already satisfied: scikit-learn in /usr/local/lib/python3.7/dist-packages (from botnoi) (0.22.2.post1)\n",
            "Requirement already satisfied: boto3 in /usr/local/lib/python3.7/dist-packages (from botnoi) (1.17.16)\n",
            "Requirement already satisfied: tweepy in /usr/local/lib/python3.7/dist-packages (from botnoi) (3.10.0)\n",
            "Requirement already satisfied: SpeechRecognition in /usr/local/lib/python3.7/dist-packages (from botnoi) (3.8.1)\n",
            "Requirement already satisfied: audioread in /usr/local/lib/python3.7/dist-packages (from botnoi) (2.1.9)\n",
            "Requirement already satisfied: pillow in /usr/local/lib/python3.7/dist-packages (from botnoi) (7.0.0)\n",
            "Requirement already satisfied: multiprocess in /usr/local/lib/python3.7/dist-packages (from botnoi) (0.70.11.1)\n",
            "Requirement already satisfied: pandas in /usr/local/lib/python3.7/dist-packages (from botnoi) (1.1.5)\n",
            "Requirement already satisfied: boto in /usr/local/lib/python3.7/dist-packages (from botnoi) (2.49.0)\n",
            "Requirement already satisfied: wave in /usr/local/lib/python3.7/dist-packages (from botnoi) (0.0.2)\n",
            "Requirement already satisfied: facebook-sdk in /usr/local/lib/python3.7/dist-packages (from botnoi) (3.1.0)\n",
            "Requirement already satisfied: dnspython<2.0.0,>=1.16.0; extra == \"srv\" in /usr/local/lib/python3.7/dist-packages (from pymongo[srv,tls]->botnoi) (1.16.0)\n",
            "Requirement already satisfied: google-auth-oauthlib>=0.4.1 in /usr/local/lib/python3.7/dist-packages (from gspread==3.6.0->botnoi) (0.4.2)\n",
            "Requirement already satisfied: google-auth>=1.12.0 in /usr/local/lib/python3.7/dist-packages (from gspread==3.6.0->botnoi) (1.27.0)\n",
            "Requirement already satisfied: requests>=2.2.1 in /usr/local/lib/python3.7/dist-packages (from gspread==3.6.0->botnoi) (2.23.0)\n",
            "Requirement already satisfied: future in /usr/local/lib/python3.7/dist-packages (from line-bot-sdk->botnoi) (0.16.0)\n",
            "Requirement already satisfied: numpy>=1.11.3 in /usr/local/lib/python3.7/dist-packages (from gensim->botnoi) (1.19.5)\n",
            "Requirement already satisfied: six>=1.5.0 in /usr/local/lib/python3.7/dist-packages (from gensim->botnoi) (1.15.0)\n",
            "Requirement already satisfied: scipy>=0.18.1 in /usr/local/lib/python3.7/dist-packages (from gensim->botnoi) (1.4.1)\n",
            "Requirement already satisfied: smart-open>=1.2.1 in /usr/local/lib/python3.7/dist-packages (from gensim->botnoi) (4.2.0)\n",
            "Requirement already satisfied: python-crfsuite>=0.9.6 in /usr/local/lib/python3.7/dist-packages (from pythainlp->botnoi) (0.9.7)\n",
            "Requirement already satisfied: tinydb>=3.0 in /usr/local/lib/python3.7/dist-packages (from pythainlp->botnoi) (4.4.0)\n",
            "Requirement already satisfied: joblib>=0.11 in /usr/local/lib/python3.7/dist-packages (from scikit-learn->botnoi) (1.0.1)\n",
            "Requirement already satisfied: s3transfer<0.4.0,>=0.3.0 in /usr/local/lib/python3.7/dist-packages (from boto3->botnoi) (0.3.4)\n",
            "Requirement already satisfied: jmespath<1.0.0,>=0.7.1 in /usr/local/lib/python3.7/dist-packages (from boto3->botnoi) (0.10.0)\n",
            "Requirement already satisfied: botocore<1.21.0,>=1.20.16 in /usr/local/lib/python3.7/dist-packages (from boto3->botnoi) (1.20.16)\n",
            "Requirement already satisfied: requests-oauthlib>=0.7.0 in /usr/local/lib/python3.7/dist-packages (from tweepy->botnoi) (1.3.0)\n",
            "Requirement already satisfied: dill>=0.3.3 in /usr/local/lib/python3.7/dist-packages (from multiprocess->botnoi) (0.3.3)\n",
            "Requirement already satisfied: python-dateutil>=2.7.3 in /usr/local/lib/python3.7/dist-packages (from pandas->botnoi) (2.8.1)\n",
            "Requirement already satisfied: pytz>=2017.2 in /usr/local/lib/python3.7/dist-packages (from pandas->botnoi) (2018.9)\n",
            "Requirement already satisfied: rsa<5,>=3.1.4; python_version >= \"3.6\" in /usr/local/lib/python3.7/dist-packages (from google-auth>=1.12.0->gspread==3.6.0->botnoi) (4.7.1)\n",
            "Requirement already satisfied: cachetools<5.0,>=2.0.0 in /usr/local/lib/python3.7/dist-packages (from google-auth>=1.12.0->gspread==3.6.0->botnoi) (4.2.1)\n",
            "Requirement already satisfied: pyasn1-modules>=0.2.1 in /usr/local/lib/python3.7/dist-packages (from google-auth>=1.12.0->gspread==3.6.0->botnoi) (0.2.8)\n",
            "Requirement already satisfied: setuptools>=40.3.0 in /usr/local/lib/python3.7/dist-packages (from google-auth>=1.12.0->gspread==3.6.0->botnoi) (53.0.0)\n",
            "Requirement already satisfied: chardet<4,>=3.0.2 in /usr/local/lib/python3.7/dist-packages (from requests>=2.2.1->gspread==3.6.0->botnoi) (3.0.4)\n",
            "Requirement already satisfied: idna<3,>=2.5 in /usr/local/lib/python3.7/dist-packages (from requests>=2.2.1->gspread==3.6.0->botnoi) (2.10)\n",
            "Requirement already satisfied: certifi>=2017.4.17 in /usr/local/lib/python3.7/dist-packages (from requests>=2.2.1->gspread==3.6.0->botnoi) (2020.12.5)\n",
            "Requirement already satisfied: urllib3!=1.25.0,!=1.25.1,<1.26,>=1.21.1 in /usr/local/lib/python3.7/dist-packages (from requests>=2.2.1->gspread==3.6.0->botnoi) (1.24.3)\n",
            "Requirement already satisfied: oauthlib>=3.0.0 in /usr/local/lib/python3.7/dist-packages (from requests-oauthlib>=0.7.0->tweepy->botnoi) (3.1.0)\n",
            "Requirement already satisfied: pyasn1>=0.1.3 in /usr/local/lib/python3.7/dist-packages (from rsa<5,>=3.1.4; python_version >= \"3.6\"->google-auth>=1.12.0->gspread==3.6.0->botnoi) (0.4.8)\n"
          ],
          "name": "stdout"
        }
      ]
    },
    {
      "cell_type": "code",
      "metadata": {
        "id": "Dvm--i27ZPFr",
        "colab": {
          "base_uri": "https://localhost:8080/"
        },
        "outputId": "4fe5d7b8-c3a1-4183-88b3-81111a478178"
      },
      "source": [
        "import botnoi as bn\r\n",
        "from botnoi import scrape as sc\r\n",
        "from botnoi import cv\r\n",
        "import os"
      ],
      "execution_count": 29,
      "outputs": [
        {
          "output_type": "stream",
          "text": [
            "/usr/local/lib/python3.7/dist-packages/sklearn/base.py:318: UserWarning: Trying to unpickle estimator TfidfTransformer from version 0.22.1 when using version 0.22.2.post1. This might lead to breaking code or invalid results. Use at your own risk.\n",
            "  UserWarning)\n",
            "/usr/local/lib/python3.7/dist-packages/sklearn/base.py:318: UserWarning: Trying to unpickle estimator TfidfVectorizer from version 0.22.1 when using version 0.22.2.post1. This might lead to breaking code or invalid results. Use at your own risk.\n",
            "  UserWarning)\n"
          ],
          "name": "stderr"
        },
        {
          "output_type": "stream",
          "text": [
            "load model tfidf\n",
            "load model w2v\n",
            "load word dict\n"
          ],
          "name": "stdout"
        }
      ]
    },
    {
      "cell_type": "code",
      "metadata": {
        "id": "VbAHrA0kZaB-",
        "colab": {
          "base_uri": "https://localhost:8080/"
        },
        "outputId": "21105110-29d2-47e6-b701-2d622ebbfaf0"
      },
      "source": [
        "imageUrl = bn.scrape.get_image_urls('Boy')"
      ],
      "execution_count": 30,
      "outputs": [
        {
          "output_type": "stream",
          "text": [
            "complete: 0.00%\n",
            "completed\n"
          ],
          "name": "stdout"
        }
      ]
    },
    {
      "cell_type": "code",
      "metadata": {
        "id": "vKmAO1ozd6AG",
        "colab": {
          "base_uri": "https://localhost:8080/"
        },
        "outputId": "3ada7363-4cc9-45e9-9280-ef1d71c00788"
      },
      "source": [
        "imageUrl"
      ],
      "execution_count": 31,
      "outputs": [
        {
          "output_type": "execute_result",
          "data": {
            "text/plain": [
              "['https://cdn.cnn.com/cnnnext/dam/assets/200610131303-01-australia-missing-boy-found-large-169.jpg',\n",
              " 'https://images-na.ssl-images-amazon.com/images/S/pv-target-images/c7b30b67e66fbacb6dc5571ad62e56ffd49f38fd4443813d15566e113489516d._RI_.jpg',\n",
              " 'https://i2-prod.mirror.co.uk/incoming/article22477335.ece/ALTERNATES/s1200d/0_Bears-killed-a-boy-in-Dagomys-1-east2west-news.jpg',\n",
              " 'https://i.ytimg.com/vi/O93Vgdh1nt0/maxresdefault.jpg',\n",
              " 'https://cdn.parkrecord.com/wp-content/uploads/sites/11/2020/07/missingboy-tpr-070420-1.jpg',\n",
              " 'https://png.pngtree.com/png-clipart/20190904/original/pngtree-a-boy-wearing-a-hat-png-image_4487593.jpg',\n",
              " 'https://www.menshairstyletrends.com/wp-content/uploads/2020/03/cool-haircuts-for-boys-blackwater_barber--1024x1024.jpg',\n",
              " 'https://i.pinimg.com/736x/d2/de/95/d2de9556e9eef282d01f208bfb8d5090.jpg',\n",
              " 'https://d1e00ek4ebabms.cloudfront.net/production/ef771007-96ce-47b8-8d10-be8d9251f7b4.jpg',\n",
              " 'https://i2-prod.getsurrey.co.uk/incoming/article17728093.ece/ALTERNATES/s1200/2_GLP_SAH_SA200154_07JPG.jpg',\n",
              " 'https://www.sarabanda.it/images/lookbook/525x/Sarabanda-FW20-look-boy-07.jpg',\n",
              " 'https://www.3pommes.com/wp-content/uploads/3PO-TH1-CargoG-293px-KidGarcon1.jpg',\n",
              " 'https://images.ctfassets.net/9wtva4vhlgxb/3oobaSPkP88VZVaBVhJ8u9/e126e6d1fd744cb7534336f0bc176a39/Unique-Baby-Boy_1536x680.jpeg',\n",
              " 'https://image.freepik.com/free-vector/cute-boy-standing-position-showing-thumb_96037-450.jpg',\n",
              " 'https://www.carters.com/on/demandware.static/-/Sites-Carters-Library/default/dwb4b6ce23/content/carters/cslp/sbc/012121/TB_ShopAll.jpg',\n",
              " 'https://cloudfront-us-east-1.images.arcpublishing.com/gray/HDECJ7E3WNCS5JJZOWMODQNBM4.jpg',\n",
              " 'https://cdn.cnn.com/cnnnext/dam/assets/200813225851-01-north-carolina-boy-killed-by-neighbor-super-tease.jpg',\n",
              " 'https://i2-prod.mirror.co.uk/incoming/article22712685.ece/ALTERNATES/s1200c/1_PAY-Married-nursery-worker-told-boy-lover-13-I-love-you.jpg',\n",
              " 'https://upload.wikimedia.org/wikipedia/commons/2/2e/Ethtigregch2.jpg',\n",
              " 'https://images.ctfassets.net/9wtva4vhlgxb/4qTlo4KYEnOP6jlIbhC0JB/afde4e733a28a837dbd6cc5c218ecba0/Baby-boy-names_720x432.jpg',\n",
              " 'https://upload.wikimedia.org/wikipedia/commons/thumb/9/9c/Boy_George_by_Dean_Stockings.jpg/1200px-Boy_George_by_Dean_Stockings.jpg',\n",
              " 'https://post.medicalnewstoday.com/wp-content/uploads/sites/3/2020/02/320676_2200-800x1200.jpg',\n",
              " 'https://s3-assets.eastidahonews.com/wp-content/uploads/2020/07/02165738/missing-Idaho-boy-860x501.jpg',\n",
              " 'https://ichef.bbci.co.uk/news/1024/cpsprodpb/97F3/production/_113099883_mediaitem113099881.jpg',\n",
              " 'https://www.parentingideas.com.au/wp-content/uploads/2017/08/Boy.jpg',\n",
              " 'https://ichef.bbci.co.uk/news/1024/branded_news/6356/production/_114003452_samir1.jpg',\n",
              " 'https://artprojectsforkids.org/wp-content/uploads/2021/01/Draw-a-Boy.jpeg',\n",
              " 'https://cdn2.momjunction.com/wp-content/uploads/2014/07/250-Latest-Modern-And-Unique-Hindu-Baby-Boy-Names.jpg',\n",
              " 'https://2zp2vu3lc9ui2wllh740y5k6-wpengine.netdna-ssl.com/wp-content/uploads/2020/08/22489954_web1_200821-CPL-BoyKilledbyTreeIdentified_1.jpg',\n",
              " 'https://bloximages.chicago2.vip.townnews.com/missoulian.com/content/tncms/assets/v3/editorial/2/5b/25b7702c-c91e-5a21-a91a-2c8d4c132b03/5ee9123e5e783.image.jpg',\n",
              " 'https://i.pinimg.com/564x/55/1d/c0/551dc09df431c56228fb5d0619a5e4ef.jpg',\n",
              " 'https://www.baby-chick.com/wp-content/uploads/2020/07/Sleeping-newborn-baby-1144960122_3106x2066-scaled-1.jpeg',\n",
              " 'https://netstorage-legit.akamaized.net/images/bd00d9358adfe705.jpg',\n",
              " 'https://i.ytimg.com/vi/oP05fUP9xAo/maxresdefault.jpg',\n",
              " 'https://ggsc.s3.amazonaws.com/images/made/images/uploads/How_to_Get_Teen_Boys_to_Open_Up_300_200_int_c1-1x.jpg',\n",
              " 'https://i.ytimg.com/vi/3wLLgJ_a7Rs/maxresdefault.jpg',\n",
              " 'https://e3.365dm.com/20/06/2048x1152/skynews-frankie-macritchie_5009541.jpg',\n",
              " 'https://www.menshairstyletrends.com/wp-content/uploads/2020/03/little-boy-short-haircuts-cutsbymar-1024x1024.jpg',\n",
              " 'https://cdn.cdnparenting.com/articles/2020/02/25151216/171715070.jpg',\n",
              " 'https://upload.wikimedia.org/wikipedia/en/c/ca/Boy2010movieposter.jpg',\n",
              " 'https://kidspot.co.nz/wp-content/uploads/2018/04/pubertyboys.jpg',\n",
              " 'https://cdn2.momjunction.com/wp-content/uploads/2014/05/100-Modern-And-Stylish-Baby-Boy-Names-With-Meanings1-910x1024.jpg',\n",
              " 'https://i.pinimg.com/originals/bc/cc/3a/bccc3a73573a69385ae9e9dce82a952f.jpg',\n",
              " 'https://www.twincities.com/wp-content/uploads/2020/05/pjimage-18.jpg',\n",
              " 'https://www.carters.com/on/demandware.static/-/Sites-Carters-Library/default/dw4d08bc5d/content/carters/cslp/sbc/012121/KB_ShopAll.jpg',\n",
              " 'https://www.powelltribune.com/uploads/original/20200721-090548-Cheyenne-dog-attack.jpg',\n",
              " 'https://fashionjournal.com.au/wp-content/uploads/2017/11/little-women-soft-boy-mob.jpeg',\n",
              " 'https://haircutinspiration.com/wp-content/uploads/Teen-Boy-Haircuts-1-1-.jpg',\n",
              " 'https://media.13newsnow.com/assets/WVEC/images/bf725445-8b36-43d5-b3d9-0eb00583b90a/bf725445-8b36-43d5-b3d9-0eb00583b90a_1920x1080.jpg',\n",
              " 'https://images.indianexpress.com/2018/07/delhi-boy-fb.jpg']"
            ]
          },
          "metadata": {
            "tags": []
          },
          "execution_count": 31
        }
      ]
    },
    {
      "cell_type": "code",
      "metadata": {
        "id": "aZC8VUWRgLwF",
        "colab": {
          "base_uri": "https://localhost:8080/"
        },
        "outputId": "668d7a22-80f9-48d5-f192-38db7f3a02d5"
      },
      "source": [
        "!pip install opencv-python"
      ],
      "execution_count": 32,
      "outputs": [
        {
          "output_type": "stream",
          "text": [
            "Requirement already satisfied: opencv-python in /usr/local/lib/python3.7/dist-packages (4.1.2.30)\n",
            "Requirement already satisfied: numpy>=1.14.5 in /usr/local/lib/python3.7/dist-packages (from opencv-python) (1.19.5)\n"
          ],
          "name": "stdout"
        }
      ]
    },
    {
      "cell_type": "code",
      "metadata": {
        "id": "zmi1tGiM1YWC",
        "colab": {
          "base_uri": "https://localhost:8080/"
        },
        "outputId": "38f0bb36-ee50-46a2-de82-069e09dc26b8"
      },
      "source": [
        "count = 0\r\n",
        "aninum = 0\r\n",
        "emply_c = 40\r\n",
        "count_loop = 0\r\n",
        "copy_count_loop = 0\r\n",
        "for i in range(100):\r\n",
        "  count = i\r\n",
        "  count %= 5\r\n",
        "  if count == 0:\r\n",
        "    print(\"[ \",end=\"\")\r\n",
        "    aninum += 1\r\n",
        "    for n in range(aninum):\r\n",
        "      print(\"=\", end=\"\")\r\n",
        "    emply_c -= 2\r\n",
        "    for emply in range(emply_c):\r\n",
        "      print(\" \", end=\"\")\r\n",
        "    count_loop += 1\r\n",
        "    copy_count_loop += 1\r\n",
        "    if(copy_count_loop == 20):\r\n",
        "      emply_c = 40\r\n",
        "      aninum = 0\r\n",
        "      count = 0\r\n",
        "      copy_count_loop = 0\r\n",
        "    print(\" ]\",\" Data : \" , \" Round : \" , i , \"/\" ,count_loop,\"Time Loop\")"
      ],
      "execution_count": 33,
      "outputs": [
        {
          "output_type": "stream",
          "text": [
            "[ =                                       ]  Data :   Round :  0 / 1 Time Loop\n",
            "[ ==                                     ]  Data :   Round :  5 / 2 Time Loop\n",
            "[ ===                                   ]  Data :   Round :  10 / 3 Time Loop\n",
            "[ ====                                 ]  Data :   Round :  15 / 4 Time Loop\n",
            "[ =====                               ]  Data :   Round :  20 / 5 Time Loop\n",
            "[ ======                             ]  Data :   Round :  25 / 6 Time Loop\n",
            "[ =======                           ]  Data :   Round :  30 / 7 Time Loop\n",
            "[ ========                         ]  Data :   Round :  35 / 8 Time Loop\n",
            "[ =========                       ]  Data :   Round :  40 / 9 Time Loop\n",
            "[ ==========                     ]  Data :   Round :  45 / 10 Time Loop\n",
            "[ ===========                   ]  Data :   Round :  50 / 11 Time Loop\n",
            "[ ============                 ]  Data :   Round :  55 / 12 Time Loop\n",
            "[ =============               ]  Data :   Round :  60 / 13 Time Loop\n",
            "[ ==============             ]  Data :   Round :  65 / 14 Time Loop\n",
            "[ ===============           ]  Data :   Round :  70 / 15 Time Loop\n",
            "[ ================         ]  Data :   Round :  75 / 16 Time Loop\n",
            "[ =================       ]  Data :   Round :  80 / 17 Time Loop\n",
            "[ ==================     ]  Data :   Round :  85 / 18 Time Loop\n",
            "[ ===================   ]  Data :   Round :  90 / 19 Time Loop\n",
            "[ ==================== ]  Data :   Round :  95 / 20 Time Loop\n"
          ],
          "name": "stdout"
        }
      ]
    },
    {
      "cell_type": "code",
      "metadata": {
        "id": "qgFN8FSECWH2"
      },
      "source": [
        "import botnoi as bn\r\n",
        "from botnoi import cv\r\n",
        "import os"
      ],
      "execution_count": 34,
      "outputs": []
    },
    {
      "cell_type": "code",
      "metadata": {
        "id": "QpJ51NlBiPci"
      },
      "source": [
        "def savePath(nameofpic):\r\n",
        "  foldername = 'imagedata/'+nameofpic\r\n",
        "  Isdir = os.path.isdir(foldername)\r\n",
        "  if not Isdir:\r\n",
        "    os.makedirs(foldername)\r\n",
        "  imageUrl = bn.scrape.get_image_urls(nameofpic)\r\n",
        "  count = 0\r\n",
        "  anicount = 0\r\n",
        "  emply_c = 26\r\n",
        "  count_loop = 0\r\n",
        "  copy_count_loop = 0\r\n",
        "  loss_value = 0\r\n",
        "  i = 0\r\n",
        "  for img in imageUrl[0:]:\r\n",
        "    i += 1\r\n",
        "    count = i\r\n",
        "    count %= 5\r\n",
        "    if count == 0:\r\n",
        "      print(\"[ \",end=\"\")\r\n",
        "      anicount += 1\r\n",
        "      for n in range(anicount):\r\n",
        "        print(\"=\",end=\"\")\r\n",
        "      emply_c -= 2\r\n",
        "      for emply in range(emply_c):\r\n",
        "        print(\" \",end=\"\")\r\n",
        "      count_loop += 1\r\n",
        "      copy_count_loop += 1\r\n",
        "      if copy_count_loop == 26:\r\n",
        "        count = 0\r\n",
        "        anicount = 0\r\n",
        "        emple_c = 26\r\n",
        "        copy_count_loop = 0\r\n",
        "      persenload = i*100 / len(imageUrl)\r\n",
        "      print(\" ]\",\" Data : \",i,\"/\",count_loop,\"| Time Loop \",\"| Loss : \",loss_value,\" \",\"| Persen Load : \",'%.2f'%persenload,\"% |\")\r\n",
        "    try:\r\n",
        "      savePath = foldername,\"/\",nameofpic+\".p\"\r\n",
        "      a = cv.image(img)\r\n",
        "      a.getresnet50()\r\n",
        "      a.save('/content/imagedata/'+ nameofpic + '/' + str(i) + '.p')\r\n",
        "    except:\r\n",
        "      loss_value += 1\r\n",
        "      pass\r\n",
        "      \r\n",
        "  print(\" Completed \",\" Data : \",i,\"/\",count_loop,\"| Time Loop \",\"| Loss : \",loss_value,\" \",\"| Persen Load : \",\"100% |\")"
      ],
      "execution_count": 35,
      "outputs": []
    },
    {
      "cell_type": "code",
      "metadata": {
        "id": "vDqoZBVN6cYj"
      },
      "source": [
        "!rm -rf imagedata/"
      ],
      "execution_count": 36,
      "outputs": []
    },
    {
      "cell_type": "code",
      "metadata": {
        "id": "rISVkzPQ-M_R"
      },
      "source": [
        "listimg = {'Zebra','Elephant','Shark','Boy','Girl'}"
      ],
      "execution_count": 37,
      "outputs": []
    },
    {
      "cell_type": "code",
      "metadata": {
        "colab": {
          "base_uri": "https://localhost:8080/"
        },
        "id": "-Rj0EUro-f1a",
        "outputId": "b7fbb94a-a6d2-4f6e-a1cd-b6f4b05b8bad"
      },
      "source": [
        "listimg"
      ],
      "execution_count": 38,
      "outputs": [
        {
          "output_type": "execute_result",
          "data": {
            "text/plain": [
              "{'Boy', 'Elephant', 'Girl', 'Shark', 'Zebra'}"
            ]
          },
          "metadata": {
            "tags": []
          },
          "execution_count": 38
        }
      ]
    },
    {
      "cell_type": "code",
      "metadata": {
        "colab": {
          "base_uri": "https://localhost:8080/"
        },
        "id": "MBGsRP2i-HxL",
        "outputId": "52f9871c-c080-4d9b-d705-e27229627bea"
      },
      "source": [
        "for inlistimg in listimg:\r\n",
        "  savePath(inlistimg)"
      ],
      "execution_count": 39,
      "outputs": [
        {
          "output_type": "stream",
          "text": [
            "complete: 0.00%\n",
            "complete: 98.00%\n",
            "completed\n",
            "[ =                         ]  Data :  5 / 1 | Time Loop  | Loss :  0   | Persen Load :  4.00 % |\n",
            "[ ==                       ]  Data :  10 / 2 | Time Loop  | Loss :  1   | Persen Load :  8.00 % |\n",
            "[ ===                     ]  Data :  15 / 3 | Time Loop  | Loss :  1   | Persen Load :  12.00 % |\n",
            "[ ====                   ]  Data :  20 / 4 | Time Loop  | Loss :  2   | Persen Load :  16.00 % |\n",
            "[ =====                 ]  Data :  25 / 5 | Time Loop  | Loss :  3   | Persen Load :  20.00 % |\n",
            "[ ======               ]  Data :  30 / 6 | Time Loop  | Loss :  3   | Persen Load :  24.00 % |\n",
            "[ =======             ]  Data :  35 / 7 | Time Loop  | Loss :  3   | Persen Load :  28.00 % |\n",
            "[ ========           ]  Data :  40 / 8 | Time Loop  | Loss :  3   | Persen Load :  32.00 % |\n",
            "[ =========         ]  Data :  45 / 9 | Time Loop  | Loss :  3   | Persen Load :  36.00 % |\n",
            "[ ==========       ]  Data :  50 / 10 | Time Loop  | Loss :  3   | Persen Load :  40.00 % |\n",
            "[ ===========     ]  Data :  55 / 11 | Time Loop  | Loss :  4   | Persen Load :  44.00 % |\n",
            "[ ============   ]  Data :  60 / 12 | Time Loop  | Loss :  4   | Persen Load :  48.00 % |\n",
            "[ ============= ]  Data :  65 / 13 | Time Loop  | Loss :  5   | Persen Load :  52.00 % |\n",
            "[ ============== ]  Data :  70 / 14 | Time Loop  | Loss :  6   | Persen Load :  56.00 % |\n",
            "[ =============== ]  Data :  75 / 15 | Time Loop  | Loss :  6   | Persen Load :  60.00 % |\n",
            "[ ================ ]  Data :  80 / 16 | Time Loop  | Loss :  6   | Persen Load :  64.00 % |\n",
            "[ ================= ]  Data :  85 / 17 | Time Loop  | Loss :  6   | Persen Load :  68.00 % |\n",
            "[ ================== ]  Data :  90 / 18 | Time Loop  | Loss :  6   | Persen Load :  72.00 % |\n",
            "[ =================== ]  Data :  95 / 19 | Time Loop  | Loss :  6   | Persen Load :  76.00 % |\n",
            "[ ==================== ]  Data :  100 / 20 | Time Loop  | Loss :  6   | Persen Load :  80.00 % |\n",
            "[ ===================== ]  Data :  105 / 21 | Time Loop  | Loss :  6   | Persen Load :  84.00 % |\n",
            "[ ====================== ]  Data :  110 / 22 | Time Loop  | Loss :  6   | Persen Load :  88.00 % |\n",
            "[ ======================= ]  Data :  115 / 23 | Time Loop  | Loss :  7   | Persen Load :  92.00 % |\n",
            "[ ======================== ]  Data :  120 / 24 | Time Loop  | Loss :  7   | Persen Load :  96.00 % |\n",
            "[ ========================= ]  Data :  125 / 25 | Time Loop  | Loss :  9   | Persen Load :  100.00 % |\n",
            " Completed   Data :  125 / 25 | Time Loop  | Loss :  9   | Persen Load :  100% |\n",
            "complete: 0.00%\n",
            "completed\n",
            "[ =                         ]  Data :  5 / 1 | Time Loop  | Loss :  0   | Persen Load :  9.43 % |\n",
            "[ ==                       ]  Data :  10 / 2 | Time Loop  | Loss :  0   | Persen Load :  18.87 % |\n",
            "[ ===                     ]  Data :  15 / 3 | Time Loop  | Loss :  1   | Persen Load :  28.30 % |\n",
            "[ ====                   ]  Data :  20 / 4 | Time Loop  | Loss :  2   | Persen Load :  37.74 % |\n",
            "[ =====                 ]  Data :  25 / 5 | Time Loop  | Loss :  2   | Persen Load :  47.17 % |\n",
            "[ ======               ]  Data :  30 / 6 | Time Loop  | Loss :  2   | Persen Load :  56.60 % |\n",
            "[ =======             ]  Data :  35 / 7 | Time Loop  | Loss :  2   | Persen Load :  66.04 % |\n",
            "[ ========           ]  Data :  40 / 8 | Time Loop  | Loss :  3   | Persen Load :  75.47 % |\n",
            "[ =========         ]  Data :  45 / 9 | Time Loop  | Loss :  3   | Persen Load :  84.91 % |\n",
            "[ ==========       ]  Data :  50 / 10 | Time Loop  | Loss :  4   | Persen Load :  94.34 % |\n",
            " Completed   Data :  53 / 10 | Time Loop  | Loss :  5   | Persen Load :  100% |\n",
            "complete: 0.00%\n",
            "completed\n",
            "[ =                         ]  Data :  5 / 1 | Time Loop  | Loss :  0   | Persen Load :  9.43 % |\n",
            "[ ==                       ]  Data :  10 / 2 | Time Loop  | Loss :  1   | Persen Load :  18.87 % |\n",
            "[ ===                     ]  Data :  15 / 3 | Time Loop  | Loss :  1   | Persen Load :  28.30 % |\n",
            "[ ====                   ]  Data :  20 / 4 | Time Loop  | Loss :  2   | Persen Load :  37.74 % |\n",
            "[ =====                 ]  Data :  25 / 5 | Time Loop  | Loss :  2   | Persen Load :  47.17 % |\n",
            "[ ======               ]  Data :  30 / 6 | Time Loop  | Loss :  3   | Persen Load :  56.60 % |\n",
            "[ =======             ]  Data :  35 / 7 | Time Loop  | Loss :  4   | Persen Load :  66.04 % |\n",
            "[ ========           ]  Data :  40 / 8 | Time Loop  | Loss :  5   | Persen Load :  75.47 % |\n",
            "[ =========         ]  Data :  45 / 9 | Time Loop  | Loss :  5   | Persen Load :  84.91 % |\n",
            "[ ==========       ]  Data :  50 / 10 | Time Loop  | Loss :  5   | Persen Load :  94.34 % |\n",
            " Completed   Data :  53 / 10 | Time Loop  | Loss :  5   | Persen Load :  100% |\n",
            "complete: 0.00%\n",
            "completed\n",
            "[ =                         ]  Data :  5 / 1 | Time Loop  | Loss :  0   | Persen Load :  8.77 % |\n",
            "[ ==                       ]  Data :  10 / 2 | Time Loop  | Loss :  0   | Persen Load :  17.54 % |\n",
            "[ ===                     ]  Data :  15 / 3 | Time Loop  | Loss :  0   | Persen Load :  26.32 % |\n",
            "[ ====                   ]  Data :  20 / 4 | Time Loop  | Loss :  1   | Persen Load :  35.09 % |\n",
            "[ =====                 ]  Data :  25 / 5 | Time Loop  | Loss :  2   | Persen Load :  43.86 % |\n",
            "[ ======               ]  Data :  30 / 6 | Time Loop  | Loss :  3   | Persen Load :  52.63 % |\n",
            "[ =======             ]  Data :  35 / 7 | Time Loop  | Loss :  4   | Persen Load :  61.40 % |\n",
            "[ ========           ]  Data :  40 / 8 | Time Loop  | Loss :  4   | Persen Load :  70.18 % |\n",
            "[ =========         ]  Data :  45 / 9 | Time Loop  | Loss :  4   | Persen Load :  78.95 % |\n",
            "[ ==========       ]  Data :  50 / 10 | Time Loop  | Loss :  5   | Persen Load :  87.72 % |\n",
            "[ ===========     ]  Data :  55 / 11 | Time Loop  | Loss :  5   | Persen Load :  96.49 % |\n",
            " Completed   Data :  57 / 11 | Time Loop  | Loss :  5   | Persen Load :  100% |\n",
            "complete: 0.00%\n",
            "completed\n",
            "[ =                         ]  Data :  5 / 1 | Time Loop  | Loss :  0   | Persen Load :  9.80 % |\n",
            "[ ==                       ]  Data :  10 / 2 | Time Loop  | Loss :  0   | Persen Load :  19.61 % |\n",
            "[ ===                     ]  Data :  15 / 3 | Time Loop  | Loss :  1   | Persen Load :  29.41 % |\n",
            "[ ====                   ]  Data :  20 / 4 | Time Loop  | Loss :  1   | Persen Load :  39.22 % |\n",
            "[ =====                 ]  Data :  25 / 5 | Time Loop  | Loss :  1   | Persen Load :  49.02 % |\n",
            "[ ======               ]  Data :  30 / 6 | Time Loop  | Loss :  1   | Persen Load :  58.82 % |\n",
            "[ =======             ]  Data :  35 / 7 | Time Loop  | Loss :  2   | Persen Load :  68.63 % |\n",
            "[ ========           ]  Data :  40 / 8 | Time Loop  | Loss :  2   | Persen Load :  78.43 % |\n",
            "[ =========         ]  Data :  45 / 9 | Time Loop  | Loss :  3   | Persen Load :  88.24 % |\n",
            "[ ==========       ]  Data :  50 / 10 | Time Loop  | Loss :  3   | Persen Load :  98.04 % |\n",
            " Completed   Data :  51 / 10 | Time Loop  | Loss :  3   | Persen Load :  100% |\n"
          ],
          "name": "stdout"
        }
      ]
    },
    {
      "cell_type": "code",
      "metadata": {
        "id": "zAcrKk-zLXSa"
      },
      "source": [
        "import glob\r\n",
        "import pandas as pd\r\n",
        "import pickle\r\n",
        "def createdataset():\r\n",
        "  imgfolder = glob.glob('/content/imagedata/*')\r\n",
        "  dataset = []\r\n",
        "  for cls in imgfolder:\r\n",
        "    clsset = pd.DataFrame()\r\n",
        "    pList = glob.glob(cls+'/*')\r\n",
        "    featvec = []\r\n",
        "    for p in pList:\r\n",
        "      dat = pickle.load(open(p,'rb'))\r\n",
        "      #featvec.append(dat.restnet50)\r\n",
        "      featvec.append(dat.resnet50)\r\n",
        "\r\n",
        "    clsset['feature'] = featvec\r\n",
        "    cls = cls.split('/')[-1]\r\n",
        "    clsset['label'] = cls\r\n",
        "    dataset.append(clsset)\r\n",
        "  return pd.concat(dataset,axis=0)"
      ],
      "execution_count": 40,
      "outputs": []
    },
    {
      "cell_type": "code",
      "metadata": {
        "id": "6BnqxtoUMORW"
      },
      "source": [
        "dataset = createdataset()"
      ],
      "execution_count": 41,
      "outputs": []
    },
    {
      "cell_type": "code",
      "metadata": {
        "id": "Bpum157_Rk7b",
        "colab": {
          "base_uri": "https://localhost:8080/",
          "height": 423
        },
        "outputId": "224c0ff3-8278-46d1-b72a-06a25c841cfc"
      },
      "source": [
        "dataset"
      ],
      "execution_count": 42,
      "outputs": [
        {
          "output_type": "execute_result",
          "data": {
            "text/html": [
              "<div>\n",
              "<style scoped>\n",
              "    .dataframe tbody tr th:only-of-type {\n",
              "        vertical-align: middle;\n",
              "    }\n",
              "\n",
              "    .dataframe tbody tr th {\n",
              "        vertical-align: top;\n",
              "    }\n",
              "\n",
              "    .dataframe thead th {\n",
              "        text-align: right;\n",
              "    }\n",
              "</style>\n",
              "<table border=\"1\" class=\"dataframe\">\n",
              "  <thead>\n",
              "    <tr style=\"text-align: right;\">\n",
              "      <th></th>\n",
              "      <th>feature</th>\n",
              "      <th>label</th>\n",
              "    </tr>\n",
              "  </thead>\n",
              "  <tbody>\n",
              "    <tr>\n",
              "      <th>0</th>\n",
              "      <td>[0.0, 0.0, 0.0, 0.0, 0.0, 0.0, 0.0, 0.0, 0.0, ...</td>\n",
              "      <td>Shark</td>\n",
              "    </tr>\n",
              "    <tr>\n",
              "      <th>1</th>\n",
              "      <td>[0.0, 0.0, 0.0, 0.0, 0.0, 0.0, 0.0, 0.0, 0.0, ...</td>\n",
              "      <td>Shark</td>\n",
              "    </tr>\n",
              "    <tr>\n",
              "      <th>2</th>\n",
              "      <td>[0.0, 0.0, 0.0, 0.0, 0.0, 0.0, 0.0017995573842...</td>\n",
              "      <td>Shark</td>\n",
              "    </tr>\n",
              "    <tr>\n",
              "      <th>3</th>\n",
              "      <td>[0.0, 0.0, 0.0, 0.0, 0.0, 0.0, 0.0, 0.0, 0.0, ...</td>\n",
              "      <td>Shark</td>\n",
              "    </tr>\n",
              "    <tr>\n",
              "      <th>4</th>\n",
              "      <td>[0.0, 0.0, 0.0, 0.0, 0.0, 0.0, 0.0, 0.0, 0.0, ...</td>\n",
              "      <td>Shark</td>\n",
              "    </tr>\n",
              "    <tr>\n",
              "      <th>...</th>\n",
              "      <td>...</td>\n",
              "      <td>...</td>\n",
              "    </tr>\n",
              "    <tr>\n",
              "      <th>43</th>\n",
              "      <td>[0.0, 0.0, 0.0, 0.0, 0.0, 0.0, 0.0, 0.0, 0.0, ...</td>\n",
              "      <td>Zebra</td>\n",
              "    </tr>\n",
              "    <tr>\n",
              "      <th>44</th>\n",
              "      <td>[0.0, 0.0, 0.0, 0.0, 0.0, 0.0, 0.0, 0.0, 0.0, ...</td>\n",
              "      <td>Zebra</td>\n",
              "    </tr>\n",
              "    <tr>\n",
              "      <th>45</th>\n",
              "      <td>[0.0, 0.0, 0.0, 0.0, 0.0, 0.0, 0.0, 0.0, 0.0, ...</td>\n",
              "      <td>Zebra</td>\n",
              "    </tr>\n",
              "    <tr>\n",
              "      <th>46</th>\n",
              "      <td>[0.0, 0.0, 0.0, 0.0, 0.0, 0.0, 0.0, 0.0, 0.0, ...</td>\n",
              "      <td>Zebra</td>\n",
              "    </tr>\n",
              "    <tr>\n",
              "      <th>47</th>\n",
              "      <td>[0.0, 0.0, 0.0, 0.0, 0.0, 0.0, 0.0, 0.0, 0.0, ...</td>\n",
              "      <td>Zebra</td>\n",
              "    </tr>\n",
              "  </tbody>\n",
              "</table>\n",
              "<p>312 rows × 2 columns</p>\n",
              "</div>"
            ],
            "text/plain": [
              "                                              feature  label\n",
              "0   [0.0, 0.0, 0.0, 0.0, 0.0, 0.0, 0.0, 0.0, 0.0, ...  Shark\n",
              "1   [0.0, 0.0, 0.0, 0.0, 0.0, 0.0, 0.0, 0.0, 0.0, ...  Shark\n",
              "2   [0.0, 0.0, 0.0, 0.0, 0.0, 0.0, 0.0017995573842...  Shark\n",
              "3   [0.0, 0.0, 0.0, 0.0, 0.0, 0.0, 0.0, 0.0, 0.0, ...  Shark\n",
              "4   [0.0, 0.0, 0.0, 0.0, 0.0, 0.0, 0.0, 0.0, 0.0, ...  Shark\n",
              "..                                                ...    ...\n",
              "43  [0.0, 0.0, 0.0, 0.0, 0.0, 0.0, 0.0, 0.0, 0.0, ...  Zebra\n",
              "44  [0.0, 0.0, 0.0, 0.0, 0.0, 0.0, 0.0, 0.0, 0.0, ...  Zebra\n",
              "45  [0.0, 0.0, 0.0, 0.0, 0.0, 0.0, 0.0, 0.0, 0.0, ...  Zebra\n",
              "46  [0.0, 0.0, 0.0, 0.0, 0.0, 0.0, 0.0, 0.0, 0.0, ...  Zebra\n",
              "47  [0.0, 0.0, 0.0, 0.0, 0.0, 0.0, 0.0, 0.0, 0.0, ...  Zebra\n",
              "\n",
              "[312 rows x 2 columns]"
            ]
          },
          "metadata": {
            "tags": []
          },
          "execution_count": 42
        }
      ]
    },
    {
      "cell_type": "code",
      "metadata": {
        "id": "HGwrc5AbRytR"
      },
      "source": [
        "from sklearn.model_selection import train_test_split\r\n",
        "import numpy as np\r\n",
        "from sklearn.svm import LinearSVC\r\n",
        "def trainmodel(dataset,modfile=''):\r\n",
        "  trainfeat, testfeat, trainlabel, testlabel = train_test_split(dataset['feature'], dataset['label'], test_size=0.33, random_state=42)\r\n",
        "  clf = LinearSVC()\r\n",
        "  mod = clf.fit(np.vstack(trainfeat.values),trainlabel.values)\r\n",
        "  res = mod.predict(np.vstack(testfeat.values))\r\n",
        "  if modfile!='':\r\n",
        "    pickle.dump(mod,open(modfile,'wb'))\r\n",
        "  acc = sum(res == testlabel)/len(res)\r\n",
        "  return mod,acc"
      ],
      "execution_count": 43,
      "outputs": []
    },
    {
      "cell_type": "code",
      "metadata": {
        "id": "_bmI96zIUN-U",
        "colab": {
          "base_uri": "https://localhost:8080/"
        },
        "outputId": "e4250858-b9df-4707-9ed7-d04bce0458c5"
      },
      "source": [
        "mod,acc = trainmodel(dataset,'mymod.mod')\r\n",
        "acc"
      ],
      "execution_count": 44,
      "outputs": [
        {
          "output_type": "execute_result",
          "data": {
            "text/plain": [
              "0.912621359223301"
            ]
          },
          "metadata": {
            "tags": []
          },
          "execution_count": 44
        }
      ]
    },
    {
      "cell_type": "code",
      "metadata": {
        "id": "ouCOFtrvVJh1"
      },
      "source": [
        "modFile = 'mymod.mod'\r\n",
        "mod = pickle.load(open(modFile,'rb'))\r\n"
      ],
      "execution_count": 45,
      "outputs": []
    },
    {
      "cell_type": "code",
      "metadata": {
        "id": "00fJUK-3VLM3"
      },
      "source": [
        "def predicting(imgurl):\r\n",
        "  a = cv.image(imgurl)\r\n",
        "  feat = a.getresnet50()\r\n",
        "  res = mod.predict([feat])\r\n",
        "  return res"
      ],
      "execution_count": 46,
      "outputs": []
    },
    {
      "cell_type": "code",
      "metadata": {
        "id": "yTGxx05dVOJI",
        "colab": {
          "base_uri": "https://localhost:8080/"
        },
        "outputId": "e0a00e1d-a3e2-442a-8f93-05fc1cf3201e"
      },
      "source": [
        "a=predicting('https://encrypted-tbn0.gstatic.com/images?q=tbn:ANd9GcQVf0FRd2I0uYXQEo5fVxOlx1dgZF6KKU6XNw&usqp=CAU')\r\n",
        "# a=predictimg('https://f.ptcdn.info/810/034/000/1440553775-IMG5594-o.jpg')\r\n",
        "a"
      ],
      "execution_count": 48,
      "outputs": [
        {
          "output_type": "execute_result",
          "data": {
            "text/plain": [
              "array(['Boy'], dtype=object)"
            ]
          },
          "metadata": {
            "tags": []
          },
          "execution_count": 48
        }
      ]
    }
  ]
}