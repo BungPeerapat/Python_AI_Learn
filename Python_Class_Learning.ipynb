{
  "nbformat": 4,
  "nbformat_minor": 0,
  "metadata": {
    "colab": {
      "name": "Python Class Learning",
      "provenance": [],
      "collapsed_sections": [],
      "include_colab_link": true
    },
    "kernelspec": {
      "display_name": "Python 3",
      "name": "python3"
    }
  },
  "cells": [
    {
      "cell_type": "markdown",
      "metadata": {
        "id": "view-in-github",
        "colab_type": "text"
      },
      "source": [
        "<a href=\"https://colab.research.google.com/github/BungPeerapat/Python_AI_Learn/blob/main/Python_Class_Learning.ipynb\" target=\"_parent\"><img src=\"https://colab.research.google.com/assets/colab-badge.svg\" alt=\"Open In Colab\"/></a>"
      ]
    },
    {
      "cell_type": "code",
      "metadata": {
        "id": "Chu283sN5T2i"
      },
      "source": [
        "class main:\r\n",
        "  def __init__(self, color,name,accleration,speed):\r\n",
        "    self.carcolor = color\r\n",
        "    self.carname = name\r\n",
        "    self.caraccleration = accleration\r\n",
        "    self.carspeed = speed\r\n",
        "    self.distance = 0\r\n",
        "  def showdetail(carname,color,accleration,speed):\r\n",
        "    print(\"\\n====================\\n\")\r\n",
        "    print(\"Detail this Car\\n\")\r\n",
        "    print(\"====================\")\r\n",
        "    print(\"Carname : \",carname)\r\n",
        "    print(\"Color : \",color)\r\n",
        "    print(\"Speed : \",speed)\r\n",
        "    print(\"Accleration : \",accleration)\r\n",
        "  def calculator(color,name,accleration,speed,time):\r\n",
        "    distance = speed * accleration\r\n",
        "    distance = distance * time\r\n",
        "    main.showdetail(name,color,accleration,speed)\r\n",
        "    print(\"\\n\\nDistance :\",float(distance / 1000),\"Kilomate\\n\")\r\n",
        "    print(\"===================\")"
      ],
      "execution_count": null,
      "outputs": []
    },
    {
      "cell_type": "markdown",
      "metadata": {
        "id": "dp4otUvRAVPg"
      },
      "source": [
        "Class Calculator Car Distance"
      ]
    },
    {
      "cell_type": "code",
      "metadata": {
        "id": "9fJchCmo9XuO",
        "colab": {
          "base_uri": "https://localhost:8080/"
        },
        "outputId": "3e68fa20-8843-49be-bce1-de52ee1d4b3f"
      },
      "source": [
        "main.calculator('green','MACAR',30,120,10)"
      ],
      "execution_count": null,
      "outputs": [
        {
          "output_type": "stream",
          "text": [
            "\n",
            "====================\n",
            "\n",
            "Detail this Car\n",
            "\n",
            "====================\n",
            "Carname :  MACAR\n",
            "Color :  green\n",
            "Speed :  120\n",
            "Accleration :  30\n",
            "\n",
            "\n",
            "Distance : 36.0 Kilomate\n",
            "\n",
            "===================\n"
          ],
          "name": "stdout"
        }
      ]
    },
    {
      "cell_type": "code",
      "metadata": {
        "id": "GIgGBQ3dYWGA",
        "colab": {
          "base_uri": "https://localhost:8080/"
        },
        "outputId": "79948f18-42ca-4cbd-c197-2901fd7dbf86"
      },
      "source": [
        "!pip install botnoi"
      ],
      "execution_count": null,
      "outputs": [
        {
          "output_type": "stream",
          "text": [
            "Collecting botnoi\n",
            "\u001b[?25l  Downloading https://files.pythonhosted.org/packages/ee/07/0c476ad9853713b4fb37e83640b4ca413d04f37c002d23d5ef8bf145da90/botnoi-0.7.1-py3-none-any.whl (22.3MB)\n",
            "\u001b[K     |████████████████████████████████| 22.3MB 92.5MB/s \n",
            "\u001b[?25hRequirement already satisfied: pymongo[srv,tls] in /usr/local/lib/python3.6/dist-packages (from botnoi) (3.11.3)\n",
            "Collecting boto\n",
            "\u001b[?25l  Downloading https://files.pythonhosted.org/packages/23/10/c0b78c27298029e4454a472a1919bde20cb182dab1662cec7f2ca1dcc523/boto-2.49.0-py2.py3-none-any.whl (1.4MB)\n",
            "\u001b[K     |████████████████████████████████| 1.4MB 45.3MB/s \n",
            "\u001b[?25hCollecting boto3\n",
            "\u001b[?25l  Downloading https://files.pythonhosted.org/packages/7c/6a/a6311de2e27d17b6e2f9d567411d1701f02b1f44f77683d8f4484876a2e8/boto3-1.17.13-py2.py3-none-any.whl (130kB)\n",
            "\u001b[K     |████████████████████████████████| 133kB 52.3MB/s \n",
            "\u001b[?25hRequirement already satisfied: pandas in /usr/local/lib/python3.6/dist-packages (from botnoi) (1.1.5)\n",
            "Collecting SpeechRecognition\n",
            "\u001b[?25l  Downloading https://files.pythonhosted.org/packages/26/e1/7f5678cd94ec1234269d23756dbdaa4c8cfaed973412f88ae8adf7893a50/SpeechRecognition-3.8.1-py2.py3-none-any.whl (32.8MB)\n",
            "\u001b[K     |████████████████████████████████| 32.8MB 120kB/s \n",
            "\u001b[?25hCollecting line-bot-sdk\n",
            "\u001b[?25l  Downloading https://files.pythonhosted.org/packages/e4/14/f96a5b5f1f62daab4f4c1192c9a8cd5e4d094ebca6f5f3658781ab2077bc/line_bot_sdk-1.18.0-py2.py3-none-any.whl (66kB)\n",
            "\u001b[K     |████████████████████████████████| 71kB 8.2MB/s \n",
            "\u001b[?25hRequirement already satisfied: tweepy in /usr/local/lib/python3.6/dist-packages (from botnoi) (3.6.0)\n",
            "Collecting wave\n",
            "  Downloading https://files.pythonhosted.org/packages/df/33/5a06e0c47a147b2683876ba7c576fad13e92b0b16755eb431e56c341e0cf/Wave-0.0.2.tar.gz\n",
            "Requirement already satisfied: multiprocess in /usr/local/lib/python3.6/dist-packages (from botnoi) (0.70.11.1)\n",
            "Collecting gspread==3.6.0\n",
            "  Downloading https://files.pythonhosted.org/packages/9c/ba/bc8de4f5077bd34bc873bdd67a89cb29c4f181abba8a836d2c6a0a142365/gspread-3.6.0-py3-none-any.whl\n",
            "Requirement already satisfied: gensim in /usr/local/lib/python3.6/dist-packages (from botnoi) (3.6.0)\n",
            "Requirement already satisfied: scikit-learn in /usr/local/lib/python3.6/dist-packages (from botnoi) (0.22.2.post1)\n",
            "Collecting facebook-sdk\n",
            "  Downloading https://files.pythonhosted.org/packages/79/d7/4cb0f5930f79205cc45db22e17fa716396d813c3d6b8d5de77783a5fa59a/facebook_sdk-3.1.0-py2.py3-none-any.whl\n",
            "Requirement already satisfied: audioread in /usr/local/lib/python3.6/dist-packages (from botnoi) (2.1.9)\n",
            "Collecting pythainlp\n",
            "\u001b[?25l  Downloading https://files.pythonhosted.org/packages/c1/09/1215cb6f6ef0cfc9dbb427a961fda8a47c111955f782f659ca2d38c79adc/pythainlp-2.2.6-py3-none-any.whl (10.6MB)\n",
            "\u001b[K     |████████████████████████████████| 10.6MB 43.1MB/s \n",
            "\u001b[?25hRequirement already satisfied: pillow in /usr/local/lib/python3.6/dist-packages (from botnoi) (7.0.0)\n",
            "Collecting dnspython<2.0.0,>=1.16.0; extra == \"srv\"\n",
            "\u001b[?25l  Downloading https://files.pythonhosted.org/packages/ec/d3/3aa0e7213ef72b8585747aa0e271a9523e713813b9a20177ebe1e939deb0/dnspython-1.16.0-py2.py3-none-any.whl (188kB)\n",
            "\u001b[K     |████████████████████████████████| 194kB 43.8MB/s \n",
            "\u001b[?25hCollecting s3transfer<0.4.0,>=0.3.0\n",
            "\u001b[?25l  Downloading https://files.pythonhosted.org/packages/ea/43/4b4a1b26eb03a429a4c37ca7fdf369d938bd60018fc194e94b8379b0c77c/s3transfer-0.3.4-py2.py3-none-any.whl (69kB)\n",
            "\u001b[K     |████████████████████████████████| 71kB 7.5MB/s \n",
            "\u001b[?25hCollecting jmespath<1.0.0,>=0.7.1\n",
            "  Downloading https://files.pythonhosted.org/packages/07/cb/5f001272b6faeb23c1c9e0acc04d48eaaf5c862c17709d20e3469c6e0139/jmespath-0.10.0-py2.py3-none-any.whl\n",
            "Collecting botocore<1.21.0,>=1.20.13\n",
            "\u001b[?25l  Downloading https://files.pythonhosted.org/packages/d9/60/34ecbbcf9baca00454d599430b3da56b1b981879342ea489e8ffe57ec8b6/botocore-1.20.13-py2.py3-none-any.whl (7.3MB)\n",
            "\u001b[K     |████████████████████████████████| 7.3MB 41.1MB/s \n",
            "\u001b[?25hRequirement already satisfied: python-dateutil>=2.7.3 in /usr/local/lib/python3.6/dist-packages (from pandas->botnoi) (2.8.1)\n",
            "Requirement already satisfied: pytz>=2017.2 in /usr/local/lib/python3.6/dist-packages (from pandas->botnoi) (2018.9)\n",
            "Requirement already satisfied: numpy>=1.15.4 in /usr/local/lib/python3.6/dist-packages (from pandas->botnoi) (1.19.5)\n",
            "Requirement already satisfied: future in /usr/local/lib/python3.6/dist-packages (from line-bot-sdk->botnoi) (0.16.0)\n",
            "Requirement already satisfied: requests>=2.0 in /usr/local/lib/python3.6/dist-packages (from line-bot-sdk->botnoi) (2.23.0)\n",
            "Requirement already satisfied: requests-oauthlib>=0.7.0 in /usr/local/lib/python3.6/dist-packages (from tweepy->botnoi) (1.3.0)\n",
            "Requirement already satisfied: PySocks>=1.5.7 in /usr/local/lib/python3.6/dist-packages (from tweepy->botnoi) (1.7.1)\n",
            "Requirement already satisfied: six>=1.10.0 in /usr/local/lib/python3.6/dist-packages (from tweepy->botnoi) (1.15.0)\n",
            "Requirement already satisfied: dill>=0.3.3 in /usr/local/lib/python3.6/dist-packages (from multiprocess->botnoi) (0.3.3)\n",
            "Requirement already satisfied: google-auth>=1.12.0 in /usr/local/lib/python3.6/dist-packages (from gspread==3.6.0->botnoi) (1.25.0)\n",
            "Requirement already satisfied: google-auth-oauthlib>=0.4.1 in /usr/local/lib/python3.6/dist-packages (from gspread==3.6.0->botnoi) (0.4.2)\n",
            "Requirement already satisfied: smart-open>=1.2.1 in /usr/local/lib/python3.6/dist-packages (from gensim->botnoi) (4.1.2)\n",
            "Requirement already satisfied: scipy>=0.18.1 in /usr/local/lib/python3.6/dist-packages (from gensim->botnoi) (1.4.1)\n",
            "Requirement already satisfied: joblib>=0.11 in /usr/local/lib/python3.6/dist-packages (from scikit-learn->botnoi) (1.0.0)\n",
            "Collecting tinydb>=3.0\n",
            "  Downloading https://files.pythonhosted.org/packages/af/cd/1ce3d93818cdeda0446b8033d21e5f32daeb3a866bbafd878a9a62058a9c/tinydb-4.4.0-py3-none-any.whl\n",
            "Collecting python-crfsuite>=0.9.6\n",
            "\u001b[?25l  Downloading https://files.pythonhosted.org/packages/95/99/869dde6dbf3e0d07a013c8eebfb0a3d30776334e0097f8432b631a9a3a19/python_crfsuite-0.9.7-cp36-cp36m-manylinux1_x86_64.whl (743kB)\n",
            "\u001b[K     |████████████████████████████████| 747kB 41.1MB/s \n",
            "\u001b[?25hCollecting urllib3<1.27,>=1.25.4\n",
            "\u001b[?25l  Downloading https://files.pythonhosted.org/packages/23/fc/8a49991f7905261f9ca9df5aa9b58363c3c821ce3e7f671895442b7100f2/urllib3-1.26.3-py2.py3-none-any.whl (137kB)\n",
            "\u001b[K     |████████████████████████████████| 143kB 31.3MB/s \n",
            "\u001b[?25hRequirement already satisfied: idna<3,>=2.5 in /usr/local/lib/python3.6/dist-packages (from requests>=2.0->line-bot-sdk->botnoi) (2.10)\n",
            "Requirement already satisfied: chardet<4,>=3.0.2 in /usr/local/lib/python3.6/dist-packages (from requests>=2.0->line-bot-sdk->botnoi) (3.0.4)\n",
            "Requirement already satisfied: certifi>=2017.4.17 in /usr/local/lib/python3.6/dist-packages (from requests>=2.0->line-bot-sdk->botnoi) (2020.12.5)\n",
            "Requirement already satisfied: oauthlib>=3.0.0 in /usr/local/lib/python3.6/dist-packages (from requests-oauthlib>=0.7.0->tweepy->botnoi) (3.1.0)\n",
            "Requirement already satisfied: rsa<5,>=3.1.4; python_version >= \"3.6\" in /usr/local/lib/python3.6/dist-packages (from google-auth>=1.12.0->gspread==3.6.0->botnoi) (4.7)\n",
            "Requirement already satisfied: setuptools>=40.3.0 in /usr/local/lib/python3.6/dist-packages (from google-auth>=1.12.0->gspread==3.6.0->botnoi) (53.0.0)\n",
            "Requirement already satisfied: cachetools<5.0,>=2.0.0 in /usr/local/lib/python3.6/dist-packages (from google-auth>=1.12.0->gspread==3.6.0->botnoi) (4.2.1)\n",
            "Requirement already satisfied: pyasn1-modules>=0.2.1 in /usr/local/lib/python3.6/dist-packages (from google-auth>=1.12.0->gspread==3.6.0->botnoi) (0.2.8)\n",
            "Requirement already satisfied: pyasn1>=0.1.3 in /usr/local/lib/python3.6/dist-packages (from rsa<5,>=3.1.4; python_version >= \"3.6\"->google-auth>=1.12.0->gspread==3.6.0->botnoi) (0.4.8)\n",
            "Building wheels for collected packages: wave\n",
            "  Building wheel for wave (setup.py) ... \u001b[?25l\u001b[?25hdone\n",
            "  Created wheel for wave: filename=Wave-0.0.2-cp36-none-any.whl size=1246 sha256=83db97b98d980fbcd33d64588f56568a17186dca801e256cbd19a73db7b6fc12\n",
            "  Stored in directory: /root/.cache/pip/wheels/8c/2e/ad/d96151afb1fdccf126346b26eabb91fec3c5ce5cbee7287fbf\n",
            "Successfully built wave\n",
            "\u001b[31mERROR: requests 2.23.0 has requirement urllib3!=1.25.0,!=1.25.1,<1.26,>=1.21.1, but you'll have urllib3 1.26.3 which is incompatible.\u001b[0m\n",
            "\u001b[31mERROR: datascience 0.10.6 has requirement folium==0.2.1, but you'll have folium 0.8.3 which is incompatible.\u001b[0m\n",
            "Installing collected packages: boto, jmespath, urllib3, botocore, s3transfer, boto3, SpeechRecognition, line-bot-sdk, wave, gspread, facebook-sdk, tinydb, python-crfsuite, pythainlp, botnoi, dnspython\n",
            "  Found existing installation: urllib3 1.24.3\n",
            "    Uninstalling urllib3-1.24.3:\n",
            "      Successfully uninstalled urllib3-1.24.3\n",
            "  Found existing installation: gspread 3.0.1\n",
            "    Uninstalling gspread-3.0.1:\n",
            "      Successfully uninstalled gspread-3.0.1\n",
            "Successfully installed SpeechRecognition-3.8.1 botnoi-0.7.1 boto-2.49.0 boto3-1.17.13 botocore-1.20.13 dnspython-1.16.0 facebook-sdk-3.1.0 gspread-3.6.0 jmespath-0.10.0 line-bot-sdk-1.18.0 pythainlp-2.2.6 python-crfsuite-0.9.7 s3transfer-0.3.4 tinydb-4.4.0 urllib3-1.26.3 wave-0.0.2\n"
          ],
          "name": "stdout"
        }
      ]
    },
    {
      "cell_type": "code",
      "metadata": {
        "id": "Dvm--i27ZPFr",
        "colab": {
          "base_uri": "https://localhost:8080/"
        },
        "outputId": "6cd6d3f0-4d4f-42c2-ae75-9930a518b4a0"
      },
      "source": [
        "import botnoi as bn\r\n",
        "from botnoi import scrape as sc\r\n",
        "from botnoi import cv\r\n",
        "import os"
      ],
      "execution_count": null,
      "outputs": [
        {
          "output_type": "stream",
          "text": [
            "/usr/local/lib/python3.6/dist-packages/requests/__init__.py:91: RequestsDependencyWarning: urllib3 (1.26.3) or chardet (3.0.4) doesn't match a supported version!\n",
            "  RequestsDependencyWarning)\n",
            "/usr/local/lib/python3.6/dist-packages/sklearn/base.py:318: UserWarning: Trying to unpickle estimator TfidfTransformer from version 0.22.1 when using version 0.22.2.post1. This might lead to breaking code or invalid results. Use at your own risk.\n",
            "  UserWarning)\n",
            "/usr/local/lib/python3.6/dist-packages/sklearn/base.py:318: UserWarning: Trying to unpickle estimator TfidfVectorizer from version 0.22.1 when using version 0.22.2.post1. This might lead to breaking code or invalid results. Use at your own risk.\n",
            "  UserWarning)\n"
          ],
          "name": "stderr"
        },
        {
          "output_type": "stream",
          "text": [
            "load model tfidf\n",
            "load model w2v\n",
            "load word dict\n"
          ],
          "name": "stdout"
        }
      ]
    },
    {
      "cell_type": "code",
      "metadata": {
        "id": "VbAHrA0kZaB-",
        "colab": {
          "base_uri": "https://localhost:8080/"
        },
        "outputId": "64325588-7d6a-43c7-cf69-9a39540cfef7"
      },
      "source": [
        "imageUrl = bn.scrape.get_image_urls('Boy')"
      ],
      "execution_count": null,
      "outputs": [
        {
          "output_type": "stream",
          "text": [
            "complete: 0.00%\n",
            "completed\n"
          ],
          "name": "stdout"
        }
      ]
    },
    {
      "cell_type": "code",
      "metadata": {
        "id": "vKmAO1ozd6AG",
        "colab": {
          "base_uri": "https://localhost:8080/"
        },
        "outputId": "bdc4def1-a650-40c9-ffa8-ddfad79e6142"
      },
      "source": [
        "imageUrl"
      ],
      "execution_count": null,
      "outputs": [
        {
          "output_type": "execute_result",
          "data": {
            "text/plain": [
              "['https://media.familyminded.com/1d/02/1d024e1be4174c5b912ca53a77b9b549.jpeg',\n",
              " 'https://www.sarabanda.it/images/lookbook/525x/Sarabanda-FW20-look-boy-07.jpg',\n",
              " 'https://www.parentingideas.com.au/wp-content/uploads/2017/08/Boy.jpg',\n",
              " 'https://i.pinimg.com/originals/bc/cc/3a/bccc3a73573a69385ae9e9dce82a952f.jpg',\n",
              " 'https://cdn.cnn.com/cnnnext/dam/assets/200610131303-01-australia-missing-boy-found-large-169.jpg',\n",
              " 'https://upload.wikimedia.org/wikipedia/commons/thumb/9/9c/Boy_George_by_Dean_Stockings.jpg/1200px-Boy_George_by_Dean_Stockings.jpg',\n",
              " 'https://e3.365dm.com/20/06/2048x1152/skynews-frankie-macritchie_5009541.jpg',\n",
              " 'https://www.thetrendspotter.net/wp-content/uploads/2020/10/Eboy-Outfit.jpg',\n",
              " 'https://www.momjunction.com/wp-content/uploads/2014/07/250-Latest-Modern-And-Unique-Hindu-Baby-Boy-Names-910x1024.jpg',\n",
              " 'https://static01.nyt.com/images/2020/08/09/arts/09burna-boy3/09burna-boy3-videoSixteenByNineJumbo1600.jpg',\n",
              " 'https://images.ctfassets.net/9wtva4vhlgxb/3oobaSPkP88VZVaBVhJ8u9/e126e6d1fd744cb7534336f0bc176a39/Unique-Baby-Boy_1536x680.jpeg',\n",
              " 'https://2zp2vu3lc9ui2wllh740y5k6-wpengine.netdna-ssl.com/wp-content/uploads/2020/08/22489954_web1_200821-CPL-BoyKilledbyTreeIdentified_1.jpg',\n",
              " 'https://d1e00ek4ebabms.cloudfront.net/production/ef771007-96ce-47b8-8d10-be8d9251f7b4.jpg',\n",
              " 'https://upload.wikimedia.org/wikipedia/commons/thumb/2/2e/Ethtigregch2.jpg/330px-Ethtigregch2.jpg',\n",
              " 'https://www.thetrendspotter.net/wp-content/uploads/2019/09/Toddler-Boy-Haircut-Man-Bun.jpg',\n",
              " 'https://i.ytimg.com/vi/3wLLgJ_a7Rs/maxresdefault.jpg',\n",
              " 'https://media.khou.com/assets/KHOU/images/3e87d6e5-b5e5-44b8-838d-29234ed5b197/3e87d6e5-b5e5-44b8-838d-29234ed5b197_1920x1080.jpg',\n",
              " 'https://i2-prod.manchestereveningnews.co.uk/incoming/article17827843.ece/ALTERNATES/s1200c/0_270220george.jpg',\n",
              " 'https://www.groenland.com/wp-content/uploads/2015/07/BOY-press-pic-II-high-by-Debora-Mittelstaedt.jpg',\n",
              " 'https://i2-prod.mirror.co.uk/incoming/article22477335.ece/ALTERNATES/s1200d/0_Bears-killed-a-boy-in-Dagomys-1-east2west-news.jpg',\n",
              " 'https://s3-assets.eastidahonews.com/wp-content/uploads/2020/07/02165738/missing-Idaho-boy-860x501.jpg',\n",
              " 'https://cdn.parkrecord.com/wp-content/uploads/sites/11/2020/07/missingboy-tpr-070420-1.jpg',\n",
              " 'https://i.ytimg.com/vi/iILJvqrAQ_w/maxresdefault.jpg',\n",
              " 'https://media.13newsnow.com/assets/WVEC/images/bf725445-8b36-43d5-b3d9-0eb00583b90a/bf725445-8b36-43d5-b3d9-0eb00583b90a_1920x1080.jpg',\n",
              " 'https://ichef.bbci.co.uk/news/1024/branded_news/6356/production/_114003452_samir1.jpg',\n",
              " 'https://ichef.bbci.co.uk/news/1024/cpsprodpb/97F3/production/_113099883_mediaitem113099881.jpg',\n",
              " 'https://i.ytimg.com/vi/oP05fUP9xAo/maxresdefault.jpg',\n",
              " 'https://d1hfln2sfez66z.cloudfront.net/12-02-2020/t_ac722e24a953416dab73004c1c5fed85_name_Police_Blind_boy_beaten_to_death_as_moth_5fc7f9d2caad46044ff1d29a_1_Dec_02_2020_20_45_42_poster.jpg',\n",
              " 'https://post.medicalnewstoday.com/wp-content/uploads/sites/3/2020/02/320676_2200-800x1200.jpg',\n",
              " 'https://media.wfaa.com/assets/WFAA/images/b1878495-f2cb-46b1-b840-ba73dc14e772/b1878495-f2cb-46b1-b840-ba73dc14e772_1920x1080.png',\n",
              " 'https://s.abcnews.com/images/US/osiel-ht-er-200108_hpMain_16x9_992.jpg',\n",
              " 'https://www.carters.com/on/demandware.static/-/Sites-Carters-Library/default/dw4d08bc5d/content/carters/cslp/sbc/012121/KB_ShopAll.jpg',\n",
              " 'https://cdn.cdnparenting.com/articles/2020/02/25151216/171715070.jpg',\n",
              " 'https://images.ctfassets.net/9wtva4vhlgxb/4qTlo4KYEnOP6jlIbhC0JB/afde4e733a28a837dbd6cc5c218ecba0/Baby-boy-names_720x432.jpg',\n",
              " 'https://kidspot.co.nz/wp-content/uploads/2018/04/pubertyboys.jpg',\n",
              " 'https://ggsc.s3.amazonaws.com/images/made/images/uploads/How_to_Get_Teen_Boys_to_Open_Up_300_200_int_c1-1x.jpg',\n",
              " 'https://i2-prod.mirror.co.uk/incoming/article22712685.ece/ALTERNATES/s615/1_PAY-Married-nursery-worker-told-boy-lover-13-I-love-you.jpg',\n",
              " 'https://media11.s-nbcnews.com/j/MSNBC/Components/Video/202011/n_vossoughian_brk_4yroldmourn_201115_1920x1080.focal-760x428.jpg',\n",
              " 'https://images.indianexpress.com/2018/07/delhi-boy-fb.jpg',\n",
              " 'https://haircutinspiration.com/wp-content/uploads/Teen-Boy-Haircuts-1-1-.jpg',\n",
              " 'https://www.guinnessworldrecords.com/Images/BTS-GettyImages-GWR-website-header_tcm25-569414.jpg',\n",
              " 'https://i.pinimg.com/736x/d2/de/95/d2de9556e9eef282d01f208bfb8d5090.jpg',\n",
              " 'https://9b16f79ca967fd0708d1-2713572fef44aa49ec323e813b06d2d9.ssl.cf2.rackcdn.com/1140x_a10-7_cTC/Taesean-Gibson-missing-boy-1597092025.jpg',\n",
              " 'https://www.momjunction.com/wp-content/uploads/2014/05/100-Modern-And-Stylish-Baby-Boy-Names-With-Meanings1-910x1024.jpg',\n",
              " 'https://upload.wikimedia.org/wikipedia/en/c/ca/Boy2010movieposter.jpg',\n",
              " 'https://haircutinspiration.com/wp-content/uploads/boys-haircuts-rio_black_rose.jpg',\n",
              " 'https://www.powelltribune.com/uploads/original/20200721-090548-Cheyenne-dog-attack.jpg',\n",
              " 'https://mk0nationaltodayijln.kinstacdn.com/wp-content/uploads/2019/02/national-boy-scout-day-640x514.jpg',\n",
              " 'https://www.3pommes.com/wp-content/uploads/3PO-TH1-CargoG-293px-KidGarcon1.jpg',\n",
              " 'https://i.ytimg.com/vi/8UFIYGkROII/maxresdefault.jpg']"
            ]
          },
          "metadata": {
            "tags": []
          },
          "execution_count": 6
        }
      ]
    },
    {
      "cell_type": "code",
      "metadata": {
        "id": "aZC8VUWRgLwF",
        "colab": {
          "base_uri": "https://localhost:8080/"
        },
        "outputId": "d9c88875-28ae-46f2-a7f0-f30771c8a289"
      },
      "source": [
        "!pip install opencv-python"
      ],
      "execution_count": null,
      "outputs": [
        {
          "output_type": "stream",
          "text": [
            "Requirement already satisfied: opencv-python in /usr/local/lib/python3.6/dist-packages (4.1.2.30)\n",
            "Requirement already satisfied: numpy>=1.11.3 in /usr/local/lib/python3.6/dist-packages (from opencv-python) (1.19.5)\n"
          ],
          "name": "stdout"
        }
      ]
    },
    {
      "cell_type": "code",
      "metadata": {
        "id": "zmi1tGiM1YWC",
        "colab": {
          "base_uri": "https://localhost:8080/"
        },
        "outputId": "063e1572-4353-4428-ff2d-15541fae9c1b"
      },
      "source": [
        "count = 0\r\n",
        "aninum = 0\r\n",
        "emply_c = 20\r\n",
        "count_loop = 0\r\n",
        "copy_count_loop = 0\r\n",
        "for i in range(100):\r\n",
        "  count = i\r\n",
        "  count %= 5\r\n",
        "  if count == 0:\r\n",
        "    print(\"[ \",end=\"\")\r\n",
        "    aninum += 1\r\n",
        "    for n in range(aninum):\r\n",
        "      print(\"=\", end=\"\")\r\n",
        "    emply_c -= 1\r\n",
        "    for emply in range(emply_c):\r\n",
        "      print(\" \", end=\"\")\r\n",
        "    count_loop += 1\r\n",
        "    copy_count_loop += 1\r\n",
        "    if(copy_count_loop == 20):\r\n",
        "      emply_c = 20\r\n",
        "      aninum = 0\r\n",
        "      count = 0\r\n",
        "      copy_count_loop = 0\r\n",
        "    print(\" ]\",\" Data : \" , \" Round : \" , i , \"/\" ,count_loop,\"Time Loop\")"
      ],
      "execution_count": null,
      "outputs": [
        {
          "output_type": "stream",
          "text": [
            "[ =                    ]  Data :   Round :  0 / 1 Time Loop\n",
            "[ ==                   ]  Data :   Round :  5 / 2 Time Loop\n",
            "[ ===                  ]  Data :   Round :  10 / 3 Time Loop\n",
            "[ ====                 ]  Data :   Round :  15 / 4 Time Loop\n",
            "[ =====                ]  Data :   Round :  20 / 5 Time Loop\n",
            "[ ======               ]  Data :   Round :  25 / 6 Time Loop\n",
            "[ =======              ]  Data :   Round :  30 / 7 Time Loop\n",
            "[ ========             ]  Data :   Round :  35 / 8 Time Loop\n",
            "[ =========            ]  Data :   Round :  40 / 9 Time Loop\n",
            "[ ==========           ]  Data :   Round :  45 / 10 Time Loop\n",
            "[ ===========          ]  Data :   Round :  50 / 11 Time Loop\n",
            "[ ============         ]  Data :   Round :  55 / 12 Time Loop\n",
            "[ =============        ]  Data :   Round :  60 / 13 Time Loop\n",
            "[ ==============       ]  Data :   Round :  65 / 14 Time Loop\n",
            "[ ===============      ]  Data :   Round :  70 / 15 Time Loop\n",
            "[ ================     ]  Data :   Round :  75 / 16 Time Loop\n",
            "[ =================    ]  Data :   Round :  80 / 17 Time Loop\n",
            "[ ==================   ]  Data :   Round :  85 / 18 Time Loop\n",
            "[ ===================  ]  Data :   Round :  90 / 19 Time Loop\n",
            "[ ==================== ]  Data :   Round :  95 / 20 Time Loop\n"
          ],
          "name": "stdout"
        }
      ]
    },
    {
      "cell_type": "code",
      "metadata": {
        "id": "qgFN8FSECWH2"
      },
      "source": [
        "import botnoi as bn\r\n",
        "from botnoi import cv\r\n",
        "import os"
      ],
      "execution_count": null,
      "outputs": []
    },
    {
      "cell_type": "code",
      "metadata": {
        "id": "QpJ51NlBiPci"
      },
      "source": [
        "def savePath(nameofpic):\r\n",
        "  foldername = 'imagedata/'+nameofpic\r\n",
        "  Isdir = os.path.isdir(foldername)\r\n",
        "  if not Isdir:\r\n",
        "    os.makedirs(foldername)\r\n",
        "  imageUrl = bn.scrape.get_image_urls(nameofpic)\r\n",
        "  count = 0\r\n",
        "  anicount = 0\r\n",
        "  emply_c = 13\r\n",
        "  count_loop = 0\r\n",
        "  copy_count_loop = 0\r\n",
        "  loss_value = 0\r\n",
        "  i = 0\r\n",
        "  for img in imageUrl[0:]:\r\n",
        "    i += 1\r\n",
        "    count = i\r\n",
        "    count %= 5\r\n",
        "    if count == 0:\r\n",
        "      print(\"[ \",end=\"\")\r\n",
        "      anicount += 1\r\n",
        "      for n in range(anicount):\r\n",
        "        print(\"=\",end=\"\")\r\n",
        "      emply_c = emply_c - 1\r\n",
        "      for emply in range(emply_c):\r\n",
        "        print(\" \",end=\"\")\r\n",
        "      count_loop += 1\r\n",
        "      copy_count_loop += 1\r\n",
        "      if copy_count_loop == 13:\r\n",
        "        count = 0\r\n",
        "        anicount = 0\r\n",
        "        emple_c = 13  \r\n",
        "        copy_count_loop = 0\r\n",
        "      persenload = i*100 / len(imageUrl)\r\n",
        "      print(\" ]\",\" Data : \",i,\"/\",count_loop,\"| Time Loop \",\"| Loss : \",loss_value,\" \",\"| Persen Load : \",'%.2f'%persenload,\"% |\")\r\n",
        "    try:\r\n",
        "      savePath = foldername,\"/\",nameofpic+\".p\"\r\n",
        "      a = cv.image(img)\r\n",
        "      a.getresnet50()\r\n",
        "      a.save('/content/imagedata/'+ nameofpic + '/' + str(i) + '.p')\r\n",
        "    except:\r\n",
        "      loss_value += 1\r\n",
        "      pass\r\n",
        "      \r\n",
        "  print(\" Completed \",\" Data : \",i,\"/\",count_loop,\"| Time Loop \",\"| Loss : \",loss_value,\" \",\"| Persen Load : \",\"100% |\")"
      ],
      "execution_count": null,
      "outputs": []
    },
    {
      "cell_type": "code",
      "metadata": {
        "id": "vDqoZBVN6cYj"
      },
      "source": [
        "!rm -rf imagedata/"
      ],
      "execution_count": null,
      "outputs": []
    },
    {
      "cell_type": "code",
      "metadata": {
        "id": "OB-nD3vFByjc",
        "colab": {
          "base_uri": "https://localhost:8080/"
        },
        "outputId": "31841954-f745-44be-89b6-b7e6dc119696"
      },
      "source": [
        "savePath('Anime Loli')"
      ],
      "execution_count": null,
      "outputs": [
        {
          "output_type": "stream",
          "text": [
            "complete: 0.00%\n",
            "completed\n",
            "Downloading data from https://storage.googleapis.com/tensorflow/keras-applications/resnet/resnet50_weights_tf_dim_ordering_tf_kernels_notop.h5\n",
            "94773248/94765736 [==============================] - 1s 0us/step\n",
            "[ =            ]  Data :  5 / 1 | Time Loop  | Loss :  1   | Persen Load :  7.35 % |\n",
            "[ ==          ]  Data :  10 / 2 | Time Loop  | Loss :  1   | Persen Load :  14.71 % |\n",
            "[ ===        ]  Data :  15 / 3 | Time Loop  | Loss :  2   | Persen Load :  22.06 % |\n",
            "[ ====      ]  Data :  20 / 4 | Time Loop  | Loss :  3   | Persen Load :  29.41 % |\n",
            "[ =====    ]  Data :  25 / 5 | Time Loop  | Loss :  4   | Persen Load :  36.76 % |\n",
            "[ ======  ]  Data :  30 / 6 | Time Loop  | Loss :  6   | Persen Load :  44.12 % |\n",
            "[ ======= ]  Data :  35 / 7 | Time Loop  | Loss :  7   | Persen Load :  51.47 % |\n",
            "[ ======== ]  Data :  40 / 8 | Time Loop  | Loss :  9   | Persen Load :  58.82 % |\n",
            "[ ========= ]  Data :  45 / 9 | Time Loop  | Loss :  10   | Persen Load :  66.18 % |\n",
            "[ ========== ]  Data :  50 / 10 | Time Loop  | Loss :  10   | Persen Load :  73.53 % |\n",
            "[ =========== ]  Data :  55 / 11 | Time Loop  | Loss :  11   | Persen Load :  80.88 % |\n",
            "[ ============ ]  Data :  60 / 12 | Time Loop  | Loss :  11   | Persen Load :  88.24 % |\n",
            "[ ============= ]  Data :  65 / 13 | Time Loop  | Loss :  12   | Persen Load :  95.59 % |\n",
            " Completed   Data :  68 / 13 | Time Loop  | Loss :  12   | Persen Load :  100% |\n"
          ],
          "name": "stdout"
        }
      ]
    },
    {
      "cell_type": "code",
      "metadata": {
        "id": "5ebEL4vZG4NE",
        "colab": {
          "base_uri": "https://localhost:8080/"
        },
        "outputId": "7cf9e85d-05db-40cf-f60c-e6291a106adc"
      },
      "source": [
        "savePath('Anime mom')"
      ],
      "execution_count": null,
      "outputs": [
        {
          "output_type": "stream",
          "text": [
            "complete: 0.00%\n",
            "completed\n",
            "[ =            ]  Data :  5 / 1 | Time Loop  | Loss :  2   | Persen Load :  7.04 % |\n",
            "[ ==          ]  Data :  10 / 2 | Time Loop  | Loss :  4   | Persen Load :  14.08 % |\n",
            "[ ===        ]  Data :  15 / 3 | Time Loop  | Loss :  4   | Persen Load :  21.13 % |\n",
            "[ ====      ]  Data :  20 / 4 | Time Loop  | Loss :  4   | Persen Load :  28.17 % |\n",
            "[ =====    ]  Data :  25 / 5 | Time Loop  | Loss :  4   | Persen Load :  35.21 % |\n",
            "[ ======  ]  Data :  30 / 6 | Time Loop  | Loss :  4   | Persen Load :  42.25 % |\n",
            "[ ======= ]  Data :  35 / 7 | Time Loop  | Loss :  5   | Persen Load :  49.30 % |\n",
            "[ ======== ]  Data :  40 / 8 | Time Loop  | Loss :  7   | Persen Load :  56.34 % |\n",
            "[ ========= ]  Data :  45 / 9 | Time Loop  | Loss :  7   | Persen Load :  63.38 % |\n",
            "[ ========== ]  Data :  50 / 10 | Time Loop  | Loss :  8   | Persen Load :  70.42 % |\n",
            "[ =========== ]  Data :  55 / 11 | Time Loop  | Loss :  9   | Persen Load :  77.46 % |\n",
            "[ ============ ]  Data :  60 / 12 | Time Loop  | Loss :  9   | Persen Load :  84.51 % |\n",
            "[ ============= ]  Data :  65 / 13 | Time Loop  | Loss :  10   | Persen Load :  91.55 % |\n",
            "[ = ]  Data :  70 / 14 | Time Loop  | Loss :  12   | Persen Load :  98.59 % |\n",
            " Completed   Data :  71 / 14 | Time Loop  | Loss :  12   | Persen Load :  100% |\n"
          ],
          "name": "stdout"
        }
      ]
    },
    {
      "cell_type": "code",
      "metadata": {
        "id": "U5hM0uNxabdT",
        "colab": {
          "base_uri": "https://localhost:8080/"
        },
        "outputId": "bb540eee-9c80-4e8d-b547-7add01abf530"
      },
      "source": [
        "savePath('Anime dad')"
      ],
      "execution_count": null,
      "outputs": [
        {
          "output_type": "stream",
          "text": [
            "complete: 0.00%\n",
            "completed\n",
            "[ =            ]  Data :  5 / 1 | Time Loop  | Loss :  0   | Persen Load :  7.35 % |\n",
            "[ ==          ]  Data :  10 / 2 | Time Loop  | Loss :  0   | Persen Load :  14.71 % |\n",
            "[ ===        ]  Data :  15 / 3 | Time Loop  | Loss :  1   | Persen Load :  22.06 % |\n",
            "[ ====      ]  Data :  20 / 4 | Time Loop  | Loss :  2   | Persen Load :  29.41 % |\n",
            "[ =====    ]  Data :  25 / 5 | Time Loop  | Loss :  2   | Persen Load :  36.76 % |\n",
            "[ ======  ]  Data :  30 / 6 | Time Loop  | Loss :  2   | Persen Load :  44.12 % |\n",
            "[ ======= ]  Data :  35 / 7 | Time Loop  | Loss :  4   | Persen Load :  51.47 % |\n",
            "[ ======== ]  Data :  40 / 8 | Time Loop  | Loss :  7   | Persen Load :  58.82 % |\n",
            "[ ========= ]  Data :  45 / 9 | Time Loop  | Loss :  9   | Persen Load :  66.18 % |\n",
            "[ ========== ]  Data :  50 / 10 | Time Loop  | Loss :  11   | Persen Load :  73.53 % |\n",
            "[ =========== ]  Data :  55 / 11 | Time Loop  | Loss :  13   | Persen Load :  80.88 % |\n",
            "[ ============ ]  Data :  60 / 12 | Time Loop  | Loss :  14   | Persen Load :  88.24 % |\n",
            "[ ============= ]  Data :  65 / 13 | Time Loop  | Loss :  14   | Persen Load :  95.59 % |\n",
            " Completed   Data :  68 / 13 | Time Loop  | Loss :  14   | Persen Load :  100% |\n"
          ],
          "name": "stdout"
        }
      ]
    },
    {
      "cell_type": "code",
      "metadata": {
        "id": "QG36DSNMahJa",
        "colab": {
          "base_uri": "https://localhost:8080/"
        },
        "outputId": "4f0f762e-4757-48bd-f82b-575f4a1b310d"
      },
      "source": [
        "savePath('Anime Shota')"
      ],
      "execution_count": null,
      "outputs": [
        {
          "output_type": "stream",
          "text": [
            "complete: 0.00%\n",
            "completed\n",
            "[ =            ]  Data :  5 / 1 | Time Loop  | Loss :  2   | Persen Load :  7.35 % |\n",
            "[ ==          ]  Data :  10 / 2 | Time Loop  | Loss :  3   | Persen Load :  14.71 % |\n",
            "[ ===        ]  Data :  15 / 3 | Time Loop  | Loss :  5   | Persen Load :  22.06 % |\n",
            "[ ====      ]  Data :  20 / 4 | Time Loop  | Loss :  6   | Persen Load :  29.41 % |\n",
            "[ =====    ]  Data :  25 / 5 | Time Loop  | Loss :  7   | Persen Load :  36.76 % |\n",
            "[ ======  ]  Data :  30 / 6 | Time Loop  | Loss :  8   | Persen Load :  44.12 % |\n",
            "[ ======= ]  Data :  35 / 7 | Time Loop  | Loss :  9   | Persen Load :  51.47 % |\n"
          ],
          "name": "stdout"
        }
      ]
    },
    {
      "cell_type": "code",
      "metadata": {
        "id": "zAcrKk-zLXSa"
      },
      "source": [
        "import glob\r\n",
        "import pandas as pd\r\n",
        "import pickle\r\n",
        "def createdataset():\r\n",
        "  imgfolder = glob.glob('/content/imagedata/*')\r\n",
        "  dataset = []\r\n",
        "  for cls in imgfolder:\r\n",
        "    clsset = pd.DataFrame()\r\n",
        "    pList = glob.glob(cls+'/*')\r\n",
        "    featvec = []\r\n",
        "    for p in pList:\r\n",
        "      dat = pickle.load(open(p,'rb'))\r\n",
        "      #featvec.append(dat.restnet50)\r\n",
        "      featvec.append(dat.resnet50)\r\n",
        "\r\n",
        "    clsset['feature'] = featvec\r\n",
        "    cls = cls.split('/')[-1]\r\n",
        "    clsset['label'] = cls\r\n",
        "    dataset.append(clsset)\r\n",
        "  return pd.concat(dataset,axis=0)"
      ],
      "execution_count": null,
      "outputs": []
    },
    {
      "cell_type": "code",
      "metadata": {
        "id": "6BnqxtoUMORW"
      },
      "source": [
        "dataset = createdataset()"
      ],
      "execution_count": null,
      "outputs": []
    },
    {
      "cell_type": "code",
      "metadata": {
        "id": "Bpum157_Rk7b",
        "colab": {
          "base_uri": "https://localhost:8080/",
          "height": 419
        },
        "outputId": "996a1925-4389-49a8-873c-8e2ca7614c5c"
      },
      "source": [
        "dataset"
      ],
      "execution_count": null,
      "outputs": [
        {
          "output_type": "execute_result",
          "data": {
            "text/html": [
              "<div>\n",
              "<style scoped>\n",
              "    .dataframe tbody tr th:only-of-type {\n",
              "        vertical-align: middle;\n",
              "    }\n",
              "\n",
              "    .dataframe tbody tr th {\n",
              "        vertical-align: top;\n",
              "    }\n",
              "\n",
              "    .dataframe thead th {\n",
              "        text-align: right;\n",
              "    }\n",
              "</style>\n",
              "<table border=\"1\" class=\"dataframe\">\n",
              "  <thead>\n",
              "    <tr style=\"text-align: right;\">\n",
              "      <th></th>\n",
              "      <th>feature</th>\n",
              "      <th>label</th>\n",
              "    </tr>\n",
              "  </thead>\n",
              "  <tbody>\n",
              "    <tr>\n",
              "      <th>0</th>\n",
              "      <td>[0.0, 0.0, 0.0, 0.0, 0.0, 0.008418783542779052...</td>\n",
              "      <td>Anime mom</td>\n",
              "    </tr>\n",
              "    <tr>\n",
              "      <th>1</th>\n",
              "      <td>[0.0, 0.0, 0.0, 0.0, 0.0, 0.0, 0.0, 0.0, 0.001...</td>\n",
              "      <td>Anime mom</td>\n",
              "    </tr>\n",
              "    <tr>\n",
              "      <th>2</th>\n",
              "      <td>[0.0, 0.0, 0.0, 0.0, 0.0, 0.003514943060689678...</td>\n",
              "      <td>Anime mom</td>\n",
              "    </tr>\n",
              "    <tr>\n",
              "      <th>3</th>\n",
              "      <td>[0.0, 0.0, 0.0, 0.0, 0.0, 0.0, 0.0050052541067...</td>\n",
              "      <td>Anime mom</td>\n",
              "    </tr>\n",
              "    <tr>\n",
              "      <th>4</th>\n",
              "      <td>[0.0, 0.0007179624491876188, 0.0, 0.0, 0.0, 0....</td>\n",
              "      <td>Anime mom</td>\n",
              "    </tr>\n",
              "    <tr>\n",
              "      <th>...</th>\n",
              "      <td>...</td>\n",
              "      <td>...</td>\n",
              "    </tr>\n",
              "    <tr>\n",
              "      <th>51</th>\n",
              "      <td>[0.0, 0.0, 0.0, 0.0, 0.0, 0.0, 0.0, 0.00394590...</td>\n",
              "      <td>Anime Loli</td>\n",
              "    </tr>\n",
              "    <tr>\n",
              "      <th>52</th>\n",
              "      <td>[0.0, 0.0, 0.0, 0.0, 4.3637378155675504e-05, 0...</td>\n",
              "      <td>Anime Loli</td>\n",
              "    </tr>\n",
              "    <tr>\n",
              "      <th>53</th>\n",
              "      <td>[0.0, 0.0, 0.0, 0.0, 0.0, 0.0, 0.0028100981676...</td>\n",
              "      <td>Anime Loli</td>\n",
              "    </tr>\n",
              "    <tr>\n",
              "      <th>54</th>\n",
              "      <td>[0.0, 0.0, 0.0, 0.0, 0.0, 0.0, 0.0, 0.0, 0.0, ...</td>\n",
              "      <td>Anime Loli</td>\n",
              "    </tr>\n",
              "    <tr>\n",
              "      <th>55</th>\n",
              "      <td>[0.0, 0.0, 0.0, 0.0, 0.0, 0.0, 0.0, 0.0, 0.0, ...</td>\n",
              "      <td>Anime Loli</td>\n",
              "    </tr>\n",
              "  </tbody>\n",
              "</table>\n",
              "<p>220 rows × 2 columns</p>\n",
              "</div>"
            ],
            "text/plain": [
              "                                              feature       label\n",
              "0   [0.0, 0.0, 0.0, 0.0, 0.0, 0.008418783542779052...   Anime mom\n",
              "1   [0.0, 0.0, 0.0, 0.0, 0.0, 0.0, 0.0, 0.0, 0.001...   Anime mom\n",
              "2   [0.0, 0.0, 0.0, 0.0, 0.0, 0.003514943060689678...   Anime mom\n",
              "3   [0.0, 0.0, 0.0, 0.0, 0.0, 0.0, 0.0050052541067...   Anime mom\n",
              "4   [0.0, 0.0007179624491876188, 0.0, 0.0, 0.0, 0....   Anime mom\n",
              "..                                                ...         ...\n",
              "51  [0.0, 0.0, 0.0, 0.0, 0.0, 0.0, 0.0, 0.00394590...  Anime Loli\n",
              "52  [0.0, 0.0, 0.0, 0.0, 4.3637378155675504e-05, 0...  Anime Loli\n",
              "53  [0.0, 0.0, 0.0, 0.0, 0.0, 0.0, 0.0028100981676...  Anime Loli\n",
              "54  [0.0, 0.0, 0.0, 0.0, 0.0, 0.0, 0.0, 0.0, 0.0, ...  Anime Loli\n",
              "55  [0.0, 0.0, 0.0, 0.0, 0.0, 0.0, 0.0, 0.0, 0.0, ...  Anime Loli\n",
              "\n",
              "[220 rows x 2 columns]"
            ]
          },
          "metadata": {
            "tags": []
          },
          "execution_count": 26
        }
      ]
    },
    {
      "cell_type": "code",
      "metadata": {
        "id": "HGwrc5AbRytR"
      },
      "source": [
        "from sklearn.model_selection import train_test_split\r\n",
        "import numpy as np\r\n",
        "from sklearn.svm import LinearSVC\r\n",
        "def trainmodel(dataset,modfile=''):\r\n",
        "  trainfeat, testfeat, trainlabel, testlabel = train_test_split(dataset['feature'], dataset['label'], test_size=0.33, random_state=42)\r\n",
        "  clf = LinearSVC()\r\n",
        "  mod = clf.fit(np.vstack(trainfeat.values),trainlabel.values)\r\n",
        "  res = mod.predict(np.vstack(testfeat.values))\r\n",
        "  if modfile!='':\r\n",
        "    pickle.dump(mod,open(modfile,'wb'))\r\n",
        "  acc = sum(res == testlabel)/len(res)\r\n",
        "  return mod,acc"
      ],
      "execution_count": null,
      "outputs": []
    },
    {
      "cell_type": "code",
      "metadata": {
        "id": "_bmI96zIUN-U",
        "colab": {
          "base_uri": "https://localhost:8080/"
        },
        "outputId": "b8dc1c02-3797-4cab-f9ad-85ff40f186e5"
      },
      "source": [
        "mod,acc = trainmodel(dataset,'mymod.mod')\r\n",
        "acc"
      ],
      "execution_count": null,
      "outputs": [
        {
          "output_type": "execute_result",
          "data": {
            "text/plain": [
              "0.410958904109589"
            ]
          },
          "metadata": {
            "tags": []
          },
          "execution_count": 28
        }
      ]
    },
    {
      "cell_type": "code",
      "metadata": {
        "id": "ouCOFtrvVJh1"
      },
      "source": [
        "modFile = 'mymod.mod'\r\n",
        "mod = pickle.load(open(modFile,'rb'))\r\n"
      ],
      "execution_count": null,
      "outputs": []
    },
    {
      "cell_type": "code",
      "metadata": {
        "id": "00fJUK-3VLM3"
      },
      "source": [
        "def predicting(imgurl):\r\n",
        "  a = cv.image(imgurl)\r\n",
        "  feat = a.getresnet50()\r\n",
        "  res = mod.predict([feat])\r\n",
        "  return res"
      ],
      "execution_count": null,
      "outputs": []
    },
    {
      "cell_type": "code",
      "metadata": {
        "id": "yTGxx05dVOJI",
        "colab": {
          "base_uri": "https://localhost:8080/"
        },
        "outputId": "7460bafa-56ac-4764-b585-27c9e8748af3"
      },
      "source": [
        "a=predicting('https://encrypted-tbn0.gstatic.com/images?q=tbn:ANd9GcTCT0cCNhkd4Q1xZElMTX82jdVaM5POVNgWYQ&usqp=CAU')\r\n",
        "# a=predictimg('https://f.ptcdn.info/810/034/000/1440553775-IMG5594-o.jpg')\r\n",
        "a"
      ],
      "execution_count": null,
      "outputs": [
        {
          "output_type": "execute_result",
          "data": {
            "text/plain": [
              "array(['Anime mom'], dtype=object)"
            ]
          },
          "metadata": {
            "tags": []
          },
          "execution_count": 33
        }
      ]
    }
  ]
}